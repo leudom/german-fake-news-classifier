{
 "cells": [
  {
   "cell_type": "markdown",
   "source": [
    "# EDA on German Fake News Dataset"
   ],
   "metadata": {
    "papermill": {
     "duration": 0.028289,
     "end_time": "2021-09-16T16:18:48.494895",
     "exception": false,
     "start_time": "2021-09-16T16:18:48.466606",
     "status": "completed"
    },
    "tags": []
   }
  },
  {
   "cell_type": "code",
   "execution_count": 1,
   "source": [
    "import os\n",
    "import numpy as np # linear algebra\n",
    "import pandas as pd # data processing, CSV file I/O (e.g. pd.read_csv)\n",
    "from sklearn.feature_extraction.text import CountVectorizer, TfidfVectorizer\n",
    "import nltk\n",
    "#from nltk.corpus import stopwords\n",
    "from dotenv import load_dotenv\n",
    "load_dotenv()\n",
    "\n",
    "\n",
    "pd.set_option('display.max_rows', 100)\n",
    "# Input data files are available in the read-only \"../input/\" directory\n",
    "# For example, running this (by clicking run or pressing Shift+Enter) will list all files under the input directory\n"
   ],
   "outputs": [],
   "metadata": {
    "_cell_guid": "b1076dfc-b9ad-4769-8c92-a6c4dae69d19",
    "_uuid": "8f2839f25d086af736a60e9eeb907d3b93b6e0e5",
    "execution": {
     "iopub.execute_input": "2021-09-16T16:18:48.551738Z",
     "iopub.status.busy": "2021-09-16T16:18:48.550575Z",
     "iopub.status.idle": "2021-09-16T16:18:50.164099Z",
     "shell.execute_reply": "2021-09-16T16:18:50.163388Z",
     "shell.execute_reply.started": "2021-09-16T15:55:25.121240Z"
    },
    "papermill": {
     "duration": 1.642953,
     "end_time": "2021-09-16T16:18:50.164299",
     "exception": false,
     "start_time": "2021-09-16T16:18:48.521346",
     "status": "completed"
    },
    "tags": []
   }
  },
  {
   "cell_type": "markdown",
   "source": [
    "## Read data"
   ],
   "metadata": {
    "papermill": {
     "duration": 0.026218,
     "end_time": "2021-09-16T16:18:50.217641",
     "exception": false,
     "start_time": "2021-09-16T16:18:50.191423",
     "status": "completed"
    },
    "tags": []
   }
  },
  {
   "cell_type": "code",
   "execution_count": 2,
   "source": [
    "\n",
    "NEWS_CSV = os.path.join(os.getenv('PROJECT_DIR'), 'data', 'raw', 'news.csv')\n",
    "df = pd.read_csv(NEWS_CSV)\n",
    "df.head()"
   ],
   "outputs": [
    {
     "output_type": "execute_result",
     "data": {
      "text/html": [
       "<div>\n",
       "<style scoped>\n",
       "    .dataframe tbody tr th:only-of-type {\n",
       "        vertical-align: middle;\n",
       "    }\n",
       "\n",
       "    .dataframe tbody tr th {\n",
       "        vertical-align: top;\n",
       "    }\n",
       "\n",
       "    .dataframe thead th {\n",
       "        text-align: right;\n",
       "    }\n",
       "</style>\n",
       "<table border=\"1\" class=\"dataframe\">\n",
       "  <thead>\n",
       "    <tr style=\"text-align: right;\">\n",
       "      <th></th>\n",
       "      <th>id</th>\n",
       "      <th>url</th>\n",
       "      <th>Titel</th>\n",
       "      <th>Body</th>\n",
       "      <th>Kategorie</th>\n",
       "      <th>Datum</th>\n",
       "      <th>Quelle</th>\n",
       "      <th>Fake</th>\n",
       "      <th>Art</th>\n",
       "    </tr>\n",
       "  </thead>\n",
       "  <tbody>\n",
       "    <tr>\n",
       "      <th>0</th>\n",
       "      <td>773233</td>\n",
       "      <td>http://www.der-postillon.com/2018/01/grokoleak...</td>\n",
       "      <td>Exklusiv! Das geheime WhatsApp-Chat-Protokoll ...</td>\n",
       "      <td>Die Sondierungsgespräche zwischen Union und SP...</td>\n",
       "      <td>wirtschaft</td>\n",
       "      <td>2018-01-18 00:00:00</td>\n",
       "      <td>Postillion</td>\n",
       "      <td>1</td>\n",
       "      <td>NaN</td>\n",
       "    </tr>\n",
       "    <tr>\n",
       "      <th>1</th>\n",
       "      <td>773234</td>\n",
       "      <td>http://www.der-postillon.com/2018/01/trump-san...</td>\n",
       "      <td>Trump droht, jeden zu verspeisen, der an seine...</td>\n",
       "      <td>Nun ist es auch medizinisch offiziell bestätig...</td>\n",
       "      <td>wirtschaft</td>\n",
       "      <td>2018-01-17 00:00:00</td>\n",
       "      <td>Postillion</td>\n",
       "      <td>1</td>\n",
       "      <td>NaN</td>\n",
       "    </tr>\n",
       "    <tr>\n",
       "      <th>2</th>\n",
       "      <td>773235</td>\n",
       "      <td>http://www.der-postillon.com/2018/01/fdp-sondi...</td>\n",
       "      <td>Soli runter, keine Steuererhöhungen, kein Klim...</td>\n",
       "      <td>Es waren zähe Verhandlungen, doch die Freien D...</td>\n",
       "      <td>wirtschaft</td>\n",
       "      <td>2018-01-12 00:00:00</td>\n",
       "      <td>Postillion</td>\n",
       "      <td>1</td>\n",
       "      <td>NaN</td>\n",
       "    </tr>\n",
       "    <tr>\n",
       "      <th>3</th>\n",
       "      <td>773236</td>\n",
       "      <td>http://www.der-postillon.com/2018/01/joachim-s...</td>\n",
       "      <td>Hat sie eine Affäre? Joachim Sauer glaubt Ange...</td>\n",
       "      <td>Wo treibt sie sich immer bis spät in die Nacht...</td>\n",
       "      <td>wirtschaft</td>\n",
       "      <td>2018-01-09 00:00:00</td>\n",
       "      <td>Postillion</td>\n",
       "      <td>1</td>\n",
       "      <td>NaN</td>\n",
       "    </tr>\n",
       "    <tr>\n",
       "      <th>4</th>\n",
       "      <td>773237</td>\n",
       "      <td>http://www.der-postillon.com/2018/01/halb-so-s...</td>\n",
       "      <td>\"Er hat ja nur HALBneger gesagt\": So begründet...</td>\n",
       "      <td>Der Parteivorstand drückt nochmal ein Auge zu:...</td>\n",
       "      <td>wirtschaft</td>\n",
       "      <td>2018-01-08 00:00:00</td>\n",
       "      <td>Postillion</td>\n",
       "      <td>1</td>\n",
       "      <td>NaN</td>\n",
       "    </tr>\n",
       "  </tbody>\n",
       "</table>\n",
       "</div>"
      ],
      "text/plain": [
       "       id                                                url  \\\n",
       "0  773233  http://www.der-postillon.com/2018/01/grokoleak...   \n",
       "1  773234  http://www.der-postillon.com/2018/01/trump-san...   \n",
       "2  773235  http://www.der-postillon.com/2018/01/fdp-sondi...   \n",
       "3  773236  http://www.der-postillon.com/2018/01/joachim-s...   \n",
       "4  773237  http://www.der-postillon.com/2018/01/halb-so-s...   \n",
       "\n",
       "                                               Titel  \\\n",
       "0  Exklusiv! Das geheime WhatsApp-Chat-Protokoll ...   \n",
       "1  Trump droht, jeden zu verspeisen, der an seine...   \n",
       "2  Soli runter, keine Steuererhöhungen, kein Klim...   \n",
       "3  Hat sie eine Affäre? Joachim Sauer glaubt Ange...   \n",
       "4  \"Er hat ja nur HALBneger gesagt\": So begründet...   \n",
       "\n",
       "                                                Body   Kategorie  \\\n",
       "0  Die Sondierungsgespräche zwischen Union und SP...  wirtschaft   \n",
       "1  Nun ist es auch medizinisch offiziell bestätig...  wirtschaft   \n",
       "2  Es waren zähe Verhandlungen, doch die Freien D...  wirtschaft   \n",
       "3  Wo treibt sie sich immer bis spät in die Nacht...  wirtschaft   \n",
       "4  Der Parteivorstand drückt nochmal ein Auge zu:...  wirtschaft   \n",
       "\n",
       "                 Datum      Quelle  Fake  Art  \n",
       "0  2018-01-18 00:00:00  Postillion     1  NaN  \n",
       "1  2018-01-17 00:00:00  Postillion     1  NaN  \n",
       "2  2018-01-12 00:00:00  Postillion     1  NaN  \n",
       "3  2018-01-09 00:00:00  Postillion     1  NaN  \n",
       "4  2018-01-08 00:00:00  Postillion     1  NaN  "
      ]
     },
     "metadata": {},
     "execution_count": 2
    }
   ],
   "metadata": {
    "execution": {
     "iopub.execute_input": "2021-09-16T16:18:50.276379Z",
     "iopub.status.busy": "2021-09-16T16:18:50.275595Z",
     "iopub.status.idle": "2021-09-16T16:18:55.218513Z",
     "shell.execute_reply": "2021-09-16T16:18:55.217962Z",
     "shell.execute_reply.started": "2021-09-16T15:55:26.985189Z"
    },
    "papermill": {
     "duration": 4.974594,
     "end_time": "2021-09-16T16:18:55.218688",
     "exception": false,
     "start_time": "2021-09-16T16:18:50.244094",
     "status": "completed"
    },
    "tags": []
   }
  },
  {
   "cell_type": "markdown",
   "source": [
    "## Start exploring the data"
   ],
   "metadata": {
    "papermill": {
     "duration": 0.026486,
     "end_time": "2021-09-16T16:18:55.271851",
     "exception": false,
     "start_time": "2021-09-16T16:18:55.245365",
     "status": "completed"
    },
    "tags": []
   }
  },
  {
   "cell_type": "code",
   "execution_count": 3,
   "source": [
    "print('Columns with missing values:')\n",
    "print(df.isnull().sum())"
   ],
   "outputs": [
    {
     "output_type": "stream",
     "name": "stdout",
     "text": [
      "Columns with missing values:\n",
      "id               0\n",
      "url              0\n",
      "Titel            0\n",
      "Body             0\n",
      "Kategorie     1322\n",
      "Datum            0\n",
      "Quelle           0\n",
      "Fake             0\n",
      "Art          40972\n",
      "dtype: int64\n"
     ]
    }
   ],
   "metadata": {
    "execution": {
     "iopub.execute_input": "2021-09-16T16:18:55.381731Z",
     "iopub.status.busy": "2021-09-16T16:18:55.380723Z",
     "iopub.status.idle": "2021-09-16T16:18:55.389165Z",
     "shell.execute_reply": "2021-09-16T16:18:55.388597Z",
     "shell.execute_reply.started": "2021-09-16T15:55:32.336177Z"
    },
    "papermill": {
     "duration": 0.090589,
     "end_time": "2021-09-16T16:18:55.389333",
     "exception": false,
     "start_time": "2021-09-16T16:18:55.298744",
     "status": "completed"
    },
    "tags": []
   }
  },
  {
   "cell_type": "markdown",
   "source": [
    "Kategorie und Art have missing values. Consider this if those columns should be used for modeling.\n",
    "Now lets have a look on the \"Fake\" column. Assuming this will be the dependent variable for modeling...\n",
    "### How does the distribution of fake news in this dataset look like?"
   ],
   "metadata": {
    "execution": {
     "iopub.execute_input": "2021-07-18T19:03:41.300996Z",
     "iopub.status.busy": "2021-07-18T19:03:41.300527Z",
     "iopub.status.idle": "2021-07-18T19:03:41.324266Z",
     "shell.execute_reply": "2021-07-18T19:03:41.323528Z",
     "shell.execute_reply.started": "2021-07-18T19:03:41.300924Z"
    },
    "papermill": {
     "duration": 0.02704,
     "end_time": "2021-09-16T16:18:55.443728",
     "exception": false,
     "start_time": "2021-09-16T16:18:55.416688",
     "status": "completed"
    },
    "tags": []
   }
  },
  {
   "cell_type": "code",
   "execution_count": 4,
   "source": [
    "df['Fake'].value_counts(normalize=True)"
   ],
   "outputs": [
    {
     "output_type": "execute_result",
     "data": {
      "text/plain": [
       "0    0.927554\n",
       "1    0.072446\n",
       "Name: Fake, dtype: float64"
      ]
     },
     "metadata": {},
     "execution_count": 4
    }
   ],
   "metadata": {
    "execution": {
     "iopub.execute_input": "2021-09-16T16:18:55.506486Z",
     "iopub.status.busy": "2021-09-16T16:18:55.505787Z",
     "iopub.status.idle": "2021-09-16T16:18:55.531293Z",
     "shell.execute_reply": "2021-09-16T16:18:55.531873Z",
     "shell.execute_reply.started": "2021-09-16T15:55:32.403227Z"
    },
    "papermill": {
     "duration": 0.06018,
     "end_time": "2021-09-16T16:18:55.532083",
     "exception": false,
     "start_time": "2021-09-16T16:18:55.471903",
     "status": "completed"
    },
    "tags": []
   }
  },
  {
   "cell_type": "markdown",
   "source": [
    "~ 7.2% of the instances are fake news. Consequently we have to deal with an unbalanced dataset. Keep that in mind for modeling and validation (proper metrics should be applied!).\n",
    "\n",
    "### So where are the articles actually come from (source)?"
   ],
   "metadata": {
    "papermill": {
     "duration": 0.027421,
     "end_time": "2021-09-16T16:18:55.588057",
     "exception": false,
     "start_time": "2021-09-16T16:18:55.560636",
     "status": "completed"
    },
    "tags": []
   }
  },
  {
   "cell_type": "code",
   "execution_count": 5,
   "source": [
    "df['Quelle'].value_counts()"
   ],
   "outputs": [
    {
     "output_type": "execute_result",
     "data": {
      "text/plain": [
       "Reuters        32984\n",
       "Pressetext     22896\n",
       "Kleine          3361\n",
       "Postillion      2040\n",
       "Einezeitung     1322\n",
       "Tagespresse     1130\n",
       "Zeitspiegel      135\n",
       "Name: Quelle, dtype: int64"
      ]
     },
     "metadata": {},
     "execution_count": 5
    }
   ],
   "metadata": {
    "execution": {
     "iopub.execute_input": "2021-09-16T16:18:55.662965Z",
     "iopub.status.busy": "2021-09-16T16:18:55.662239Z",
     "iopub.status.idle": "2021-09-16T16:18:55.668765Z",
     "shell.execute_reply": "2021-09-16T16:18:55.669268Z",
     "shell.execute_reply.started": "2021-09-16T15:55:32.441243Z"
    },
    "papermill": {
     "duration": 0.053618,
     "end_time": "2021-09-16T16:18:55.669477",
     "exception": false,
     "start_time": "2021-09-16T16:18:55.615859",
     "status": "completed"
    },
    "tags": []
   }
  },
  {
   "cell_type": "code",
   "execution_count": 6,
   "source": [
    "df.groupby('Quelle')['Fake'].sum()"
   ],
   "outputs": [
    {
     "output_type": "execute_result",
     "data": {
      "text/plain": [
       "Quelle\n",
       "Einezeitung    1322\n",
       "Kleine            0\n",
       "Postillion     2040\n",
       "Pressetext        0\n",
       "Reuters           0\n",
       "Tagespresse    1130\n",
       "Zeitspiegel     135\n",
       "Name: Fake, dtype: int64"
      ]
     },
     "metadata": {},
     "execution_count": 6
    }
   ],
   "metadata": {
    "execution": {
     "iopub.execute_input": "2021-09-16T16:18:55.728158Z",
     "iopub.status.busy": "2021-09-16T16:18:55.727561Z",
     "iopub.status.idle": "2021-09-16T16:18:55.747342Z",
     "shell.execute_reply": "2021-09-16T16:18:55.746733Z",
     "shell.execute_reply.started": "2021-09-16T15:55:32.465807Z"
    },
    "papermill": {
     "duration": 0.050209,
     "end_time": "2021-09-16T16:18:55.747474",
     "exception": false,
     "start_time": "2021-09-16T16:18:55.697265",
     "status": "completed"
    },
    "tags": []
   }
  },
  {
   "cell_type": "markdown",
   "source": [
    "Fake News are coming solely from \n",
    "* Einezeitung\n",
    "* Postillion\n",
    "* Tagespresse\n",
    "* Zeitspiegel \n",
    "\n",
    "Obviously all these sources are considered as **satirical news** sites. So the publisher of this dataset treated those sarcastic news articles as fake. And yes, they are actually fake by intention. Such intentionally faked story are live from exaggerated expressions and inappropriate vocabulary compared to the context they appear in.\n",
    "\n",
    "> Further analysis and model results on test data will show, if this kind of fake news is appropriate for training a model that should be capable of detecting fake news from non-sarcastic news articles."
   ],
   "metadata": {
    "execution": {
     "iopub.execute_input": "2021-07-18T16:03:48.127841Z",
     "iopub.status.busy": "2021-07-18T16:03:48.127416Z",
     "iopub.status.idle": "2021-07-18T16:03:48.168394Z",
     "shell.execute_reply": "2021-07-18T16:03:48.16701Z",
     "shell.execute_reply.started": "2021-07-18T16:03:48.127807Z"
    },
    "papermill": {
     "duration": 0.027881,
     "end_time": "2021-09-16T16:18:55.803218",
     "exception": false,
     "start_time": "2021-09-16T16:18:55.775337",
     "status": "completed"
    },
    "tags": []
   }
  },
  {
   "cell_type": "code",
   "execution_count": 7,
   "source": [
    "# By the way: This is my my favourite one...\n",
    "df[df['Quelle'] == 'Zeitspiegel']['Titel'][36154]"
   ],
   "outputs": [
    {
     "output_type": "execute_result",
     "data": {
      "text/plain": [
       "'Gesundheitscheck bestätigt: US-Präsident Donald Trump vollkommen gesundes und normales Arschloch'"
      ]
     },
     "metadata": {},
     "execution_count": 7
    }
   ],
   "metadata": {
    "execution": {
     "iopub.execute_input": "2021-09-16T16:18:55.874910Z",
     "iopub.status.busy": "2021-09-16T16:18:55.874137Z",
     "iopub.status.idle": "2021-09-16T16:18:55.884292Z",
     "shell.execute_reply": "2021-09-16T16:18:55.883759Z",
     "shell.execute_reply.started": "2021-09-16T15:55:32.488298Z"
    },
    "papermill": {
     "duration": 0.052691,
     "end_time": "2021-09-16T16:18:55.884435",
     "exception": false,
     "start_time": "2021-09-16T16:18:55.831744",
     "status": "completed"
    },
    "tags": []
   }
  },
  {
   "cell_type": "markdown",
   "source": [
    "Now let's have a look on the \"Kategorie\"..."
   ],
   "metadata": {
    "papermill": {
     "duration": 0.028566,
     "end_time": "2021-09-16T16:18:55.941611",
     "exception": false,
     "start_time": "2021-09-16T16:18:55.913045",
     "status": "completed"
    },
    "tags": []
   }
  },
  {
   "cell_type": "code",
   "execution_count": 8,
   "source": [
    "df['Kategorie'].value_counts()"
   ],
   "outputs": [
    {
     "output_type": "execute_result",
     "data": {
      "text/plain": [
       "Weltnachrichten            9626\n",
       "Unternehmensnachrichten    7968\n",
       "BUSINESS                   6628\n",
       "LEBEN                      6436\n",
       "Inlandsnachrichten         5461\n",
       "HIGHTECH                   4842\n",
       "MEDIEN                     4598\n",
       "Wirtschaftsnachrichten     4497\n",
       "Top-Nachrichten            2884\n",
       "Politik                    1836\n",
       "Marktnachrichten           1669\n",
       "wirtschaft                  938\n",
       "International               731\n",
       "Wirtschaft                  680\n",
       "Österreich                  522\n",
       "panorama                    495\n",
       "Chronik                     483\n",
       "ADHOC                       392\n",
       "Sport                       352\n",
       "Leute                       337\n",
       "sport                       308\n",
       "Kultur                      200\n",
       "wissenschaft                129\n",
       "eltnachrichten              128\n",
       "nlandsnachrichten           116\n",
       "medien                       85\n",
       "leute                        85\n",
       "irtschaftsnachrichten        41\n",
       "nternehmensnachrichten       39\n",
       "Wissen                       14\n",
       "Panorama                     12\n",
       "Gesundheit                   10\n",
       "arktnachrichten               3\n",
       "op-Nachrichten                1\n",
       "Name: Kategorie, dtype: int64"
      ]
     },
     "metadata": {},
     "execution_count": 8
    }
   ],
   "metadata": {
    "execution": {
     "iopub.execute_input": "2021-09-16T16:18:56.002008Z",
     "iopub.status.busy": "2021-09-16T16:18:56.001373Z",
     "iopub.status.idle": "2021-09-16T16:18:56.023346Z",
     "shell.execute_reply": "2021-09-16T16:18:56.023905Z",
     "shell.execute_reply.started": "2021-09-16T15:55:32.509979Z"
    },
    "papermill": {
     "duration": 0.053746,
     "end_time": "2021-09-16T16:18:56.024066",
     "exception": false,
     "start_time": "2021-09-16T16:18:55.970320",
     "status": "completed"
    },
    "tags": []
   }
  },
  {
   "cell_type": "code",
   "execution_count": 9,
   "source": [
    "df.groupby(['Quelle', 'Kategorie'])['Fake'].sum()"
   ],
   "outputs": [
    {
     "output_type": "execute_result",
     "data": {
      "text/plain": [
       "Quelle       Kategorie              \n",
       "Kleine       International                0\n",
       "             Kultur                       0\n",
       "             Leute                        0\n",
       "             Politik                      0\n",
       "             Sport                        0\n",
       "             Wirtschaft                   0\n",
       "             Österreich                   0\n",
       "Postillion   leute                       85\n",
       "             medien                      85\n",
       "             panorama                   495\n",
       "             sport                      308\n",
       "             wirtschaft                 938\n",
       "             wissenschaft               129\n",
       "Pressetext   ADHOC                        0\n",
       "             BUSINESS                     0\n",
       "             HIGHTECH                     0\n",
       "             LEBEN                        0\n",
       "             MEDIEN                       0\n",
       "Reuters      Inlandsnachrichten           0\n",
       "             Marktnachrichten             0\n",
       "             Politik                      0\n",
       "             Top-Nachrichten              0\n",
       "             Unternehmensnachrichten      0\n",
       "             Weltnachrichten              0\n",
       "             Wirtschaftsnachrichten       0\n",
       "             arktnachrichten              0\n",
       "             eltnachrichten               0\n",
       "             irtschaftsnachrichten        0\n",
       "             nlandsnachrichten            0\n",
       "             nternehmensnachrichten       0\n",
       "             op-Nachrichten               0\n",
       "Tagespresse  Chronik                    483\n",
       "             International              152\n",
       "             Politik                    372\n",
       "             Wirtschaft                 123\n",
       "Zeitspiegel  Gesundheit                  10\n",
       "             Kultur                       7\n",
       "             Panorama                    12\n",
       "             Politik                     73\n",
       "             Wirtschaft                  19\n",
       "             Wissen                      14\n",
       "Name: Fake, dtype: int64"
      ]
     },
     "metadata": {},
     "execution_count": 9
    }
   ],
   "metadata": {
    "execution": {
     "iopub.execute_input": "2021-09-16T16:18:56.085531Z",
     "iopub.status.busy": "2021-09-16T16:18:56.084918Z",
     "iopub.status.idle": "2021-09-16T16:18:56.113779Z",
     "shell.execute_reply": "2021-09-16T16:18:56.114236Z",
     "shell.execute_reply.started": "2021-09-16T15:55:32.537779Z"
    },
    "papermill": {
     "duration": 0.061663,
     "end_time": "2021-09-16T16:18:56.114427",
     "exception": false,
     "start_time": "2021-09-16T16:18:56.052764",
     "status": "completed"
    },
    "tags": []
   }
  },
  {
   "cell_type": "markdown",
   "source": [
    "Some category names seems to be corrupted. So keep in mind we have to deal with them later on if we use \"Kategorie\" as feature in our model.\n",
    "\n",
    "### How does the text look like?"
   ],
   "metadata": {
    "papermill": {
     "duration": 0.029709,
     "end_time": "2021-09-16T16:18:56.173509",
     "exception": false,
     "start_time": "2021-09-16T16:18:56.143800",
     "status": "completed"
    },
    "tags": []
   }
  },
  {
   "cell_type": "markdown",
   "source": [
    "First we check for duplicates in the dataset..."
   ],
   "metadata": {
    "papermill": {
     "duration": 0.028934,
     "end_time": "2021-09-16T16:18:56.231678",
     "exception": false,
     "start_time": "2021-09-16T16:18:56.202744",
     "status": "completed"
    },
    "tags": []
   }
  },
  {
   "cell_type": "code",
   "execution_count": 10,
   "source": [
    "print(df.duplicated(subset=['Titel', 'Body']).value_counts(normalize=True))\n",
    "df[df.duplicated(subset=['Titel', 'Body'])]"
   ],
   "outputs": [
    {
     "output_type": "stream",
     "name": "stdout",
     "text": [
      "False    0.980444\n",
      "True     0.019556\n",
      "dtype: float64\n"
     ]
    },
    {
     "output_type": "execute_result",
     "data": {
      "text/html": [
       "<div>\n",
       "<style scoped>\n",
       "    .dataframe tbody tr th:only-of-type {\n",
       "        vertical-align: middle;\n",
       "    }\n",
       "\n",
       "    .dataframe tbody tr th {\n",
       "        vertical-align: top;\n",
       "    }\n",
       "\n",
       "    .dataframe thead th {\n",
       "        text-align: right;\n",
       "    }\n",
       "</style>\n",
       "<table border=\"1\" class=\"dataframe\">\n",
       "  <thead>\n",
       "    <tr style=\"text-align: right;\">\n",
       "      <th></th>\n",
       "      <th>id</th>\n",
       "      <th>url</th>\n",
       "      <th>Titel</th>\n",
       "      <th>Body</th>\n",
       "      <th>Kategorie</th>\n",
       "      <th>Datum</th>\n",
       "      <th>Quelle</th>\n",
       "      <th>Fake</th>\n",
       "      <th>Art</th>\n",
       "    </tr>\n",
       "  </thead>\n",
       "  <tbody>\n",
       "    <tr>\n",
       "      <th>2180</th>\n",
       "      <td>775488</td>\n",
       "      <td>https://de.reuters.com/article/deutschland-koa...</td>\n",
       "      <td>Kauder - An Sondierungs-Ergebnissen gibt es ni...</td>\n",
       "      <td>Unions-Fraktionschef Volker Kauder hat sich ge...</td>\n",
       "      <td>Inlandsnachrichten</td>\n",
       "      <td>2018-01-15 00:00:00</td>\n",
       "      <td>Reuters</td>\n",
       "      <td>0</td>\n",
       "      <td>NaN</td>\n",
       "    </tr>\n",
       "    <tr>\n",
       "      <th>2217</th>\n",
       "      <td>775525</td>\n",
       "      <td>https://de.reuters.com/article/deutschland-koa...</td>\n",
       "      <td>Kooperationsverbot in Bildungsfinanzierung sol...</td>\n",
       "      <td>Union und SPD wollen das Kooperationsverbot in...</td>\n",
       "      <td>Inlandsnachrichten</td>\n",
       "      <td>2018-01-12 00:00:00</td>\n",
       "      <td>Reuters</td>\n",
       "      <td>0</td>\n",
       "      <td>NaN</td>\n",
       "    </tr>\n",
       "    <tr>\n",
       "      <th>2301</th>\n",
       "      <td>775609</td>\n",
       "      <td>https://de.reuters.com/article/deutschland-koa...</td>\n",
       "      <td>Groko-Sondierer rütteln am Klimaschutzziel für...</td>\n",
       "      <td>Die Sondierer von CDU, CSU und SPD haben bei F...</td>\n",
       "      <td>Top-Nachrichten</td>\n",
       "      <td>2018-01-08 00:00:00</td>\n",
       "      <td>Reuters</td>\n",
       "      <td>0</td>\n",
       "      <td>NaN</td>\n",
       "    </tr>\n",
       "    <tr>\n",
       "      <th>2351</th>\n",
       "      <td>775660</td>\n",
       "      <td>https://de.reuters.com/article/deutschland-eas...</td>\n",
       "      <td>Easyjet will Passagierzahl in Deutschland verd...</td>\n",
       "      <td>Der britische Billigflieger Easyjet will nach ...</td>\n",
       "      <td>Unternehmensnachrichten</td>\n",
       "      <td>2018-01-05 00:00:00</td>\n",
       "      <td>Reuters</td>\n",
       "      <td>0</td>\n",
       "      <td>NaN</td>\n",
       "    </tr>\n",
       "    <tr>\n",
       "      <th>2366</th>\n",
       "      <td>775675</td>\n",
       "      <td>https://de.reuters.com/article/usa-trump-idDEK...</td>\n",
       "      <td>Trump lässt nach Bruch mit Bannon die Anwälte los</td>\n",
       "      <td>US-Präsident Donald Trump versucht seinen Ex-C...</td>\n",
       "      <td>Weltnachrichten</td>\n",
       "      <td>2018-01-05 00:00:00</td>\n",
       "      <td>Reuters</td>\n",
       "      <td>0</td>\n",
       "      <td>NaN</td>\n",
       "    </tr>\n",
       "    <tr>\n",
       "      <th>...</th>\n",
       "      <td>...</td>\n",
       "      <td>...</td>\n",
       "      <td>...</td>\n",
       "      <td>...</td>\n",
       "      <td>...</td>\n",
       "      <td>...</td>\n",
       "      <td>...</td>\n",
       "      <td>...</td>\n",
       "      <td>...</td>\n",
       "    </tr>\n",
       "    <tr>\n",
       "      <th>63859</th>\n",
       "      <td>838140</td>\n",
       "      <td>http://www.kleinezeitung.at//leute/5367537/Sta...</td>\n",
       "      <td>62. Opernball: Das ist die Gästeliste</td>\n",
       "      <td>Die Übertragung des Balles im Fernsehen dürfte...</td>\n",
       "      <td>Leute</td>\n",
       "      <td>2018-02-07 00:00:00</td>\n",
       "      <td>Kleine</td>\n",
       "      <td>0</td>\n",
       "      <td>NaN</td>\n",
       "    </tr>\n",
       "    <tr>\n",
       "      <th>63860</th>\n",
       "      <td>838141</td>\n",
       "      <td>http://www.kleinezeitung.at//leute/5367585/Ver...</td>\n",
       "      <td>Guido Maria Kretschmer freut sich auf Hochzeit</td>\n",
       "      <td>Kretschmer und der zehn Jahre ältere Mutters l...</td>\n",
       "      <td>Leute</td>\n",
       "      <td>2018-02-07 00:00:00</td>\n",
       "      <td>Kleine</td>\n",
       "      <td>0</td>\n",
       "      <td>NaN</td>\n",
       "    </tr>\n",
       "    <tr>\n",
       "      <th>63861</th>\n",
       "      <td>838142</td>\n",
       "      <td>http://www.kleinezeitung.at//leute/5367456/Ers...</td>\n",
       "      <td>Kylie Jenner verriet den Namen ihrer Tochter</td>\n",
       "      <td>Der Vorname \"Stormi\" kam bei ihren Fans gut an...</td>\n",
       "      <td>Leute</td>\n",
       "      <td>2018-02-07 00:00:00</td>\n",
       "      <td>Kleine</td>\n",
       "      <td>0</td>\n",
       "      <td>NaN</td>\n",
       "    </tr>\n",
       "    <tr>\n",
       "      <th>63862</th>\n",
       "      <td>838143</td>\n",
       "      <td>http://www.kleinezeitung.at//kaernten/5378399/...</td>\n",
       "      <td>Verendete Kühe auf Hof: Staatsanwaltschaft prü...</td>\n",
       "      <td>Schwere Vorwürfe gegen Landwirt aus Hüttenberg...</td>\n",
       "      <td>Österreich</td>\n",
       "      <td>2018-02-26 00:00:00</td>\n",
       "      <td>Kleine</td>\n",
       "      <td>0</td>\n",
       "      <td>NaN</td>\n",
       "    </tr>\n",
       "    <tr>\n",
       "      <th>63865</th>\n",
       "      <td>838146</td>\n",
       "      <td>http://www.kleinezeitung.at//wirtschaft/wirtsc...</td>\n",
       "      <td>Warum die Taiwaner Toilettenpapier bunkern</td>\n",
       "      <td>Aus Angst vor Preiserhöhungen bei Klopapier ka...</td>\n",
       "      <td>Wirtschaft</td>\n",
       "      <td>2018-02-26 00:00:00</td>\n",
       "      <td>Kleine</td>\n",
       "      <td>0</td>\n",
       "      <td>NaN</td>\n",
       "    </tr>\n",
       "  </tbody>\n",
       "</table>\n",
       "<p>1249 rows × 9 columns</p>\n",
       "</div>"
      ],
      "text/plain": [
       "           id                                                url  \\\n",
       "2180   775488  https://de.reuters.com/article/deutschland-koa...   \n",
       "2217   775525  https://de.reuters.com/article/deutschland-koa...   \n",
       "2301   775609  https://de.reuters.com/article/deutschland-koa...   \n",
       "2351   775660  https://de.reuters.com/article/deutschland-eas...   \n",
       "2366   775675  https://de.reuters.com/article/usa-trump-idDEK...   \n",
       "...       ...                                                ...   \n",
       "63859  838140  http://www.kleinezeitung.at//leute/5367537/Sta...   \n",
       "63860  838141  http://www.kleinezeitung.at//leute/5367585/Ver...   \n",
       "63861  838142  http://www.kleinezeitung.at//leute/5367456/Ers...   \n",
       "63862  838143  http://www.kleinezeitung.at//kaernten/5378399/...   \n",
       "63865  838146  http://www.kleinezeitung.at//wirtschaft/wirtsc...   \n",
       "\n",
       "                                                   Titel  \\\n",
       "2180   Kauder - An Sondierungs-Ergebnissen gibt es ni...   \n",
       "2217   Kooperationsverbot in Bildungsfinanzierung sol...   \n",
       "2301   Groko-Sondierer rütteln am Klimaschutzziel für...   \n",
       "2351   Easyjet will Passagierzahl in Deutschland verd...   \n",
       "2366   Trump lässt nach Bruch mit Bannon die Anwälte los   \n",
       "...                                                  ...   \n",
       "63859              62. Opernball: Das ist die Gästeliste   \n",
       "63860     Guido Maria Kretschmer freut sich auf Hochzeit   \n",
       "63861       Kylie Jenner verriet den Namen ihrer Tochter   \n",
       "63862  Verendete Kühe auf Hof: Staatsanwaltschaft prü...   \n",
       "63865         Warum die Taiwaner Toilettenpapier bunkern   \n",
       "\n",
       "                                                    Body  \\\n",
       "2180   Unions-Fraktionschef Volker Kauder hat sich ge...   \n",
       "2217   Union und SPD wollen das Kooperationsverbot in...   \n",
       "2301   Die Sondierer von CDU, CSU und SPD haben bei F...   \n",
       "2351   Der britische Billigflieger Easyjet will nach ...   \n",
       "2366   US-Präsident Donald Trump versucht seinen Ex-C...   \n",
       "...                                                  ...   \n",
       "63859  Die Übertragung des Balles im Fernsehen dürfte...   \n",
       "63860  Kretschmer und der zehn Jahre ältere Mutters l...   \n",
       "63861  Der Vorname \"Stormi\" kam bei ihren Fans gut an...   \n",
       "63862  Schwere Vorwürfe gegen Landwirt aus Hüttenberg...   \n",
       "63865  Aus Angst vor Preiserhöhungen bei Klopapier ka...   \n",
       "\n",
       "                     Kategorie                Datum   Quelle  Fake  Art  \n",
       "2180        Inlandsnachrichten  2018-01-15 00:00:00  Reuters     0  NaN  \n",
       "2217        Inlandsnachrichten  2018-01-12 00:00:00  Reuters     0  NaN  \n",
       "2301           Top-Nachrichten  2018-01-08 00:00:00  Reuters     0  NaN  \n",
       "2351   Unternehmensnachrichten  2018-01-05 00:00:00  Reuters     0  NaN  \n",
       "2366           Weltnachrichten  2018-01-05 00:00:00  Reuters     0  NaN  \n",
       "...                        ...                  ...      ...   ...  ...  \n",
       "63859                    Leute  2018-02-07 00:00:00   Kleine     0  NaN  \n",
       "63860                    Leute  2018-02-07 00:00:00   Kleine     0  NaN  \n",
       "63861                    Leute  2018-02-07 00:00:00   Kleine     0  NaN  \n",
       "63862               Österreich  2018-02-26 00:00:00   Kleine     0  NaN  \n",
       "63865               Wirtschaft  2018-02-26 00:00:00   Kleine     0  NaN  \n",
       "\n",
       "[1249 rows x 9 columns]"
      ]
     },
     "metadata": {},
     "execution_count": 10
    }
   ],
   "metadata": {
    "execution": {
     "iopub.execute_input": "2021-09-16T16:18:56.310043Z",
     "iopub.status.busy": "2021-09-16T16:18:56.309383Z",
     "iopub.status.idle": "2021-09-16T16:18:57.891343Z",
     "shell.execute_reply": "2021-09-16T16:18:57.890822Z",
     "shell.execute_reply.started": "2021-09-16T15:55:32.572472Z"
    },
    "papermill": {
     "duration": 1.63057,
     "end_time": "2021-09-16T16:18:57.891474",
     "exception": false,
     "start_time": "2021-09-16T16:18:56.260904",
     "status": "completed"
    },
    "tags": []
   }
  },
  {
   "cell_type": "code",
   "execution_count": 11,
   "source": [
    "# We drop them...\n",
    "df = df.drop_duplicates(subset=['Titel', 'Body']).reset_index()"
   ],
   "outputs": [],
   "metadata": {
    "execution": {
     "iopub.execute_input": "2021-09-16T16:18:57.964089Z",
     "iopub.status.busy": "2021-09-16T16:18:57.963420Z",
     "iopub.status.idle": "2021-09-16T16:18:58.611561Z",
     "shell.execute_reply": "2021-09-16T16:18:58.610953Z",
     "shell.execute_reply.started": "2021-09-16T15:55:34.101581Z"
    },
    "papermill": {
     "duration": 0.689924,
     "end_time": "2021-09-16T16:18:58.611702",
     "exception": false,
     "start_time": "2021-09-16T16:18:57.921778",
     "status": "completed"
    },
    "tags": []
   }
  },
  {
   "cell_type": "markdown",
   "source": [
    "Now lets have a quick look at how many words and characters we have in Titel and Body? "
   ],
   "metadata": {
    "papermill": {
     "duration": 0.030143,
     "end_time": "2021-09-16T16:18:58.672014",
     "exception": false,
     "start_time": "2021-09-16T16:18:58.641871",
     "status": "completed"
    },
    "tags": []
   }
  },
  {
   "cell_type": "code",
   "execution_count": 12,
   "source": [
    "# Count for max character and word length in Titel and Body\n",
    "print('Max # of char in Title: %i' % df['Titel'].str.len().max())\n",
    "cnt_lst = []\n",
    "for i in range(0, len(df)):\n",
    "    cnt_lst.append(len(df['Titel'][i].split()))\n",
    "print('Max # words in Title: %i' % max(cnt_lst))\n",
    "print('Average # of words in Title: %i' % np.mean(cnt_lst))\n",
    "\n",
    "print('Max char length of Body: %i' % df['Body'].str.len().max())\n",
    "cnt_lst = []\n",
    "for i in range(0, len(df)):\n",
    "    cnt_lst.append(len(df['Body'][i].split()))\n",
    "print('Max # of words in Body: %i' % max(cnt_lst))\n",
    "print('Average # of words in Body: %i' % np.mean(cnt_lst))"
   ],
   "outputs": [
    {
     "output_type": "stream",
     "name": "stdout",
     "text": [
      "Max # of char in Title: 431\n",
      "Max # words in Title: 48\n",
      "Average # of words in Title: 6\n",
      "Max char length of Body: 10032\n",
      "Max # of words in Body: 1455\n",
      "Average # of words in Body: 336\n"
     ]
    }
   ],
   "metadata": {
    "execution": {
     "iopub.execute_input": "2021-09-16T16:18:58.748849Z",
     "iopub.status.busy": "2021-09-16T16:18:58.747887Z",
     "iopub.status.idle": "2021-09-16T16:19:01.987673Z",
     "shell.execute_reply": "2021-09-16T16:19:01.988612Z",
     "shell.execute_reply.started": "2021-09-16T15:55:34.727216Z"
    },
    "papermill": {
     "duration": 3.286412,
     "end_time": "2021-09-16T16:19:01.988871",
     "exception": false,
     "start_time": "2021-09-16T16:18:58.702459",
     "status": "completed"
    },
    "tags": []
   }
  },
  {
   "cell_type": "markdown",
   "source": [
    "Ok, this seams to be quite reasonable for news articles.\n",
    "\n",
    "### From what year they actually stem from?"
   ],
   "metadata": {
    "papermill": {
     "duration": 0.031095,
     "end_time": "2021-09-16T16:19:02.052285",
     "exception": false,
     "start_time": "2021-09-16T16:19:02.021190",
     "status": "completed"
    },
    "tags": []
   }
  },
  {
   "cell_type": "code",
   "execution_count": 13,
   "source": [
    "df['Datum'] = pd.to_datetime(df['Datum'])\n",
    "df['Jahr'] = df['Datum'].apply(lambda x: x.year)\n",
    "df['Jahr'].plot(kind = 'hist')"
   ],
   "outputs": [
    {
     "output_type": "execute_result",
     "data": {
      "text/plain": [
       "<AxesSubplot:ylabel='Frequency'>"
      ]
     },
     "metadata": {},
     "execution_count": 13
    },
    {
     "output_type": "display_data",
     "data": {
      "image/png": "[encoded data removed]",
      "text/plain": [
       "<Figure size 432x288 with 1 Axes>"
      ]
     },
     "metadata": {
      "needs_background": "light"
     }
    }
   ],
   "metadata": {
    "execution": {
     "iopub.execute_input": "2021-09-16T16:19:02.146321Z",
     "iopub.status.busy": "2021-09-16T16:19:02.145110Z",
     "iopub.status.idle": "2021-09-16T16:19:02.908323Z",
     "shell.execute_reply": "2021-09-16T16:19:02.908830Z",
     "shell.execute_reply.started": "2021-09-16T15:55:38.002424Z"
    },
    "papermill": {
     "duration": 0.825199,
     "end_time": "2021-09-16T16:19:02.909017",
     "exception": false,
     "start_time": "2021-09-16T16:19:02.083818",
     "status": "completed"
    },
    "tags": []
   }
  },
  {
   "cell_type": "markdown",
   "source": [
    "Ok, so the majority of articles were published from 2013 to 2018. We are in 2021 as this EDA was perfromed. So the latest articles are already 3 years old. Could that have an implication on our model we want to train?\n",
    "* Topics (and therefore the vocabulary) in the train data could be outdated? (e.g. Nobody talked about covid-19 in 2018!)"
   ],
   "metadata": {
    "papermill": {
     "duration": 0.032314,
     "end_time": "2021-09-16T16:19:02.973890",
     "exception": false,
     "start_time": "2021-09-16T16:19:02.941576",
     "status": "completed"
    },
    "tags": []
   }
  },
  {
   "cell_type": "markdown",
   "source": [
    "## Preprocessing and preparing text features"
   ],
   "metadata": {
    "papermill": {
     "duration": 0.031917,
     "end_time": "2021-09-16T16:19:03.038341",
     "exception": false,
     "start_time": "2021-09-16T16:19:03.006424",
     "status": "completed"
    },
    "tags": []
   }
  },
  {
   "cell_type": "markdown",
   "source": [
    "We already know (and expected) from a first look on the text features, that they contain a lot of stopwords. Therefore we take a stopword list from nltk.\n",
    "\n",
    "Afterwards we ceate a word count matrix with CountVectorizer Object from scikit-learn and play around a bit..."
   ],
   "metadata": {
    "papermill": {
     "duration": 0.032357,
     "end_time": "2021-09-16T16:19:03.104069",
     "exception": false,
     "start_time": "2021-09-16T16:19:03.071712",
     "status": "completed"
    },
    "tags": []
   }
  },
  {
   "cell_type": "code",
   "execution_count": 14,
   "source": [
    "# Init a stopword list from nltk and use it as arg in CountVectorizer...\n",
    "nltk.download('stopwords')\n",
    "stopword_list = nltk.corpus.stopwords.words('german')"
   ],
   "outputs": [
    {
     "output_type": "stream",
     "name": "stderr",
     "text": [
      "[nltk_data] Downloading package stopwords to\n",
      "[nltk_data]     /Users/dominikl/nltk_data...\n",
      "[nltk_data]   Package stopwords is already up-to-date!\n"
     ]
    }
   ],
   "metadata": {
    "execution": {
     "iopub.execute_input": "2021-09-16T16:19:03.175677Z",
     "iopub.status.busy": "2021-09-16T16:19:03.174894Z",
     "iopub.status.idle": "2021-09-16T16:19:03.183906Z",
     "shell.execute_reply": "2021-09-16T16:19:03.183283Z",
     "shell.execute_reply.started": "2021-09-16T15:55:38.785299Z"
    },
    "papermill": {
     "duration": 0.046642,
     "end_time": "2021-09-16T16:19:03.184065",
     "exception": false,
     "start_time": "2021-09-16T16:19:03.137423",
     "status": "completed"
    },
    "tags": []
   }
  },
  {
   "cell_type": "markdown",
   "source": [
    "Count Vec Titel..."
   ],
   "metadata": {}
  },
  {
   "cell_type": "code",
   "execution_count": 15,
   "source": [
    "count_vec_titel = CountVectorizer(stop_words=stopword_list,\n",
    "                                  token_pattern=r'\\b[a-zA-Z]{2,}\\b',\n",
    "                                  max_features=50)\n",
    "                                  #ngram_range=(2,2)\n",
    "                                #)\n",
    "# We first do that on Titel...\n",
    "count_vec_titel.fit(df['Titel'])\n",
    "word_counts_in_titel = count_vec_titel.transform(df['Titel']).todense()"
   ],
   "outputs": [],
   "metadata": {
    "execution": {
     "iopub.execute_input": "2021-09-16T16:19:03.268841Z",
     "iopub.status.busy": "2021-09-16T16:19:03.263818Z",
     "iopub.status.idle": "2021-09-16T16:19:04.897452Z",
     "shell.execute_reply": "2021-09-16T16:19:04.896828Z",
     "shell.execute_reply.started": "2021-09-16T15:55:38.803527Z"
    },
    "papermill": {
     "duration": 1.68061,
     "end_time": "2021-09-16T16:19:04.897760",
     "exception": false,
     "start_time": "2021-09-16T16:19:03.217150",
     "status": "completed"
    },
    "tags": []
   }
  },
  {
   "cell_type": "markdown",
   "source": [
    "### What are the most occuring words?"
   ],
   "metadata": {
    "papermill": {
     "duration": 0.032147,
     "end_time": "2021-09-16T16:19:04.963509",
     "exception": false,
     "start_time": "2021-09-16T16:19:04.931362",
     "status": "completed"
    },
    "tags": []
   }
  },
  {
   "cell_type": "code",
   "execution_count": 16,
   "source": [
    "df_titel = pd.DataFrame(word_counts_in_titel, columns=count_vec_titel.get_feature_names())\n",
    "df_titel.head()"
   ],
   "outputs": [
    {
     "output_type": "execute_result",
     "data": {
      "text/html": [
       "<div>\n",
       "<style scoped>\n",
       "    .dataframe tbody tr th:only-of-type {\n",
       "        vertical-align: middle;\n",
       "    }\n",
       "\n",
       "    .dataframe tbody tr th {\n",
       "        vertical-align: top;\n",
       "    }\n",
       "\n",
       "    .dataframe thead th {\n",
       "        text-align: right;\n",
       "    }\n",
       "</style>\n",
       "<table border=\"1\" class=\"dataframe\">\n",
       "  <thead>\n",
       "    <tr style=\"text-align: right;\">\n",
       "      <th></th>\n",
       "      <th>ab</th>\n",
       "      <th>ag</th>\n",
       "      <th>bank</th>\n",
       "      <th>banken</th>\n",
       "      <th>brexit</th>\n",
       "      <th>chef</th>\n",
       "      <th>china</th>\n",
       "      <th>dax</th>\n",
       "      <th>deutsche</th>\n",
       "      <th>deutschland</th>\n",
       "      <th>...</th>\n",
       "      <th>trotz</th>\n",
       "      <th>trump</th>\n",
       "      <th>ukraine</th>\n",
       "      <th>un</th>\n",
       "      <th>us</th>\n",
       "      <th>usa</th>\n",
       "      <th>vw</th>\n",
       "      <th>warnt</th>\n",
       "      <th>wegen</th>\n",
       "      <th>wirtschaft</th>\n",
       "    </tr>\n",
       "  </thead>\n",
       "  <tbody>\n",
       "    <tr>\n",
       "      <th>0</th>\n",
       "      <td>0</td>\n",
       "      <td>0</td>\n",
       "      <td>0</td>\n",
       "      <td>0</td>\n",
       "      <td>0</td>\n",
       "      <td>0</td>\n",
       "      <td>0</td>\n",
       "      <td>0</td>\n",
       "      <td>0</td>\n",
       "      <td>0</td>\n",
       "      <td>...</td>\n",
       "      <td>0</td>\n",
       "      <td>0</td>\n",
       "      <td>0</td>\n",
       "      <td>0</td>\n",
       "      <td>0</td>\n",
       "      <td>0</td>\n",
       "      <td>0</td>\n",
       "      <td>0</td>\n",
       "      <td>0</td>\n",
       "      <td>0</td>\n",
       "    </tr>\n",
       "    <tr>\n",
       "      <th>1</th>\n",
       "      <td>0</td>\n",
       "      <td>0</td>\n",
       "      <td>0</td>\n",
       "      <td>0</td>\n",
       "      <td>0</td>\n",
       "      <td>0</td>\n",
       "      <td>0</td>\n",
       "      <td>0</td>\n",
       "      <td>0</td>\n",
       "      <td>0</td>\n",
       "      <td>...</td>\n",
       "      <td>0</td>\n",
       "      <td>1</td>\n",
       "      <td>0</td>\n",
       "      <td>0</td>\n",
       "      <td>0</td>\n",
       "      <td>0</td>\n",
       "      <td>0</td>\n",
       "      <td>0</td>\n",
       "      <td>0</td>\n",
       "      <td>0</td>\n",
       "    </tr>\n",
       "    <tr>\n",
       "      <th>2</th>\n",
       "      <td>0</td>\n",
       "      <td>0</td>\n",
       "      <td>0</td>\n",
       "      <td>0</td>\n",
       "      <td>0</td>\n",
       "      <td>0</td>\n",
       "      <td>0</td>\n",
       "      <td>0</td>\n",
       "      <td>0</td>\n",
       "      <td>0</td>\n",
       "      <td>...</td>\n",
       "      <td>0</td>\n",
       "      <td>0</td>\n",
       "      <td>0</td>\n",
       "      <td>0</td>\n",
       "      <td>0</td>\n",
       "      <td>0</td>\n",
       "      <td>0</td>\n",
       "      <td>0</td>\n",
       "      <td>0</td>\n",
       "      <td>0</td>\n",
       "    </tr>\n",
       "    <tr>\n",
       "      <th>3</th>\n",
       "      <td>0</td>\n",
       "      <td>0</td>\n",
       "      <td>0</td>\n",
       "      <td>0</td>\n",
       "      <td>0</td>\n",
       "      <td>0</td>\n",
       "      <td>0</td>\n",
       "      <td>0</td>\n",
       "      <td>0</td>\n",
       "      <td>0</td>\n",
       "      <td>...</td>\n",
       "      <td>0</td>\n",
       "      <td>0</td>\n",
       "      <td>0</td>\n",
       "      <td>0</td>\n",
       "      <td>0</td>\n",
       "      <td>0</td>\n",
       "      <td>0</td>\n",
       "      <td>0</td>\n",
       "      <td>0</td>\n",
       "      <td>0</td>\n",
       "    </tr>\n",
       "    <tr>\n",
       "      <th>4</th>\n",
       "      <td>0</td>\n",
       "      <td>0</td>\n",
       "      <td>0</td>\n",
       "      <td>0</td>\n",
       "      <td>0</td>\n",
       "      <td>0</td>\n",
       "      <td>0</td>\n",
       "      <td>0</td>\n",
       "      <td>0</td>\n",
       "      <td>0</td>\n",
       "      <td>...</td>\n",
       "      <td>0</td>\n",
       "      <td>0</td>\n",
       "      <td>0</td>\n",
       "      <td>0</td>\n",
       "      <td>0</td>\n",
       "      <td>0</td>\n",
       "      <td>0</td>\n",
       "      <td>0</td>\n",
       "      <td>0</td>\n",
       "      <td>0</td>\n",
       "    </tr>\n",
       "  </tbody>\n",
       "</table>\n",
       "<p>5 rows × 50 columns</p>\n",
       "</div>"
      ],
      "text/plain": [
       "   ab  ag  bank  banken  brexit  chef  china  dax  deutsche  deutschland  ...  \\\n",
       "0   0   0     0       0       0     0      0    0         0            0  ...   \n",
       "1   0   0     0       0       0     0      0    0         0            0  ...   \n",
       "2   0   0     0       0       0     0      0    0         0            0  ...   \n",
       "3   0   0     0       0       0     0      0    0         0            0  ...   \n",
       "4   0   0     0       0       0     0      0    0         0            0  ...   \n",
       "\n",
       "   trotz  trump  ukraine  un  us  usa  vw  warnt  wegen  wirtschaft  \n",
       "0      0      0        0   0   0    0   0      0      0           0  \n",
       "1      0      1        0   0   0    0   0      0      0           0  \n",
       "2      0      0        0   0   0    0   0      0      0           0  \n",
       "3      0      0        0   0   0    0   0      0      0           0  \n",
       "4      0      0        0   0   0    0   0      0      0           0  \n",
       "\n",
       "[5 rows x 50 columns]"
      ]
     },
     "metadata": {},
     "execution_count": 16
    }
   ],
   "metadata": {
    "execution": {
     "iopub.execute_input": "2021-09-16T16:19:05.049661Z",
     "iopub.status.busy": "2021-09-16T16:19:05.041745Z",
     "iopub.status.idle": "2021-09-16T16:19:05.052863Z",
     "shell.execute_reply": "2021-09-16T16:19:05.053466Z",
     "shell.execute_reply.started": "2021-09-16T15:55:40.523832Z"
    },
    "papermill": {
     "duration": 0.057817,
     "end_time": "2021-09-16T16:19:05.053689",
     "exception": false,
     "start_time": "2021-09-16T16:19:04.995872",
     "status": "completed"
    },
    "tags": []
   }
  },
  {
   "cell_type": "code",
   "execution_count": 17,
   "source": [
    "df_titel_trans = pd.DataFrame(df_titel.T.sum(axis=1), columns=['count'])"
   ],
   "outputs": [],
   "metadata": {
    "execution": {
     "iopub.execute_input": "2021-09-16T16:19:05.124042Z",
     "iopub.status.busy": "2021-09-16T16:19:05.123422Z",
     "iopub.status.idle": "2021-09-16T16:19:05.319640Z",
     "shell.execute_reply": "2021-09-16T16:19:05.320144Z",
     "shell.execute_reply.started": "2021-09-16T15:55:40.545934Z"
    },
    "papermill": {
     "duration": 0.232951,
     "end_time": "2021-09-16T16:19:05.320355",
     "exception": false,
     "start_time": "2021-09-16T16:19:05.087404",
     "status": "completed"
    },
    "tags": []
   }
  },
  {
   "cell_type": "code",
   "execution_count": 18,
   "source": [
    "df_titel_trans.sort_values(by='count', ascending=False).head(50)"
   ],
   "outputs": [
    {
     "output_type": "execute_result",
     "data": {
      "text/html": [
       "<div>\n",
       "<style scoped>\n",
       "    .dataframe tbody tr th:only-of-type {\n",
       "        vertical-align: middle;\n",
       "    }\n",
       "\n",
       "    .dataframe tbody tr th {\n",
       "        vertical-align: top;\n",
       "    }\n",
       "\n",
       "    .dataframe thead th {\n",
       "        text-align: right;\n",
       "    }\n",
       "</style>\n",
       "<table border=\"1\" class=\"dataframe\">\n",
       "  <thead>\n",
       "    <tr style=\"text-align: right;\">\n",
       "      <th></th>\n",
       "      <th>count</th>\n",
       "    </tr>\n",
       "  </thead>\n",
       "  <tbody>\n",
       "    <tr>\n",
       "      <th>us</th>\n",
       "      <td>2191</td>\n",
       "    </tr>\n",
       "    <tr>\n",
       "      <th>eu</th>\n",
       "      <td>1788</td>\n",
       "    </tr>\n",
       "    <tr>\n",
       "      <th>deutsche</th>\n",
       "      <td>1425</td>\n",
       "    </tr>\n",
       "    <tr>\n",
       "      <th>mehr</th>\n",
       "      <td>1371</td>\n",
       "    </tr>\n",
       "    <tr>\n",
       "      <th>usa</th>\n",
       "      <td>1267</td>\n",
       "    </tr>\n",
       "    <tr>\n",
       "      <th>euro</th>\n",
       "      <td>1185</td>\n",
       "    </tr>\n",
       "    <tr>\n",
       "      <th>neue</th>\n",
       "      <td>1175</td>\n",
       "    </tr>\n",
       "    <tr>\n",
       "      <th>ab</th>\n",
       "      <td>1149</td>\n",
       "    </tr>\n",
       "    <tr>\n",
       "      <th>merkel</th>\n",
       "      <td>1030</td>\n",
       "    </tr>\n",
       "    <tr>\n",
       "      <th>deutschland</th>\n",
       "      <td>1016</td>\n",
       "    </tr>\n",
       "    <tr>\n",
       "      <th>trump</th>\n",
       "      <td>983</td>\n",
       "    </tr>\n",
       "    <tr>\n",
       "      <th>wegen</th>\n",
       "      <td>918</td>\n",
       "    </tr>\n",
       "    <tr>\n",
       "      <th>russland</th>\n",
       "      <td>918</td>\n",
       "    </tr>\n",
       "    <tr>\n",
       "      <th>chef</th>\n",
       "      <td>864</td>\n",
       "    </tr>\n",
       "    <tr>\n",
       "      <th>syrien</th>\n",
       "      <td>814</td>\n",
       "    </tr>\n",
       "    <tr>\n",
       "      <th>china</th>\n",
       "      <td>781</td>\n",
       "    </tr>\n",
       "    <tr>\n",
       "      <th>spd</th>\n",
       "      <td>778</td>\n",
       "    </tr>\n",
       "    <tr>\n",
       "      <th>macht</th>\n",
       "      <td>771</td>\n",
       "    </tr>\n",
       "    <tr>\n",
       "      <th>ezb</th>\n",
       "      <td>736</td>\n",
       "    </tr>\n",
       "    <tr>\n",
       "      <th>bank</th>\n",
       "      <td>716</td>\n",
       "    </tr>\n",
       "    <tr>\n",
       "      <th>wirtschaft</th>\n",
       "      <td>698</td>\n",
       "    </tr>\n",
       "    <tr>\n",
       "      <th>ukraine</th>\n",
       "      <td>669</td>\n",
       "    </tr>\n",
       "    <tr>\n",
       "      <th>regierung</th>\n",
       "      <td>608</td>\n",
       "    </tr>\n",
       "    <tr>\n",
       "      <th>is</th>\n",
       "      <td>603</td>\n",
       "    </tr>\n",
       "    <tr>\n",
       "      <th>griechenland</th>\n",
       "      <td>592</td>\n",
       "    </tr>\n",
       "    <tr>\n",
       "      <th>tote</th>\n",
       "      <td>583</td>\n",
       "    </tr>\n",
       "    <tr>\n",
       "      <th>online</th>\n",
       "      <td>577</td>\n",
       "    </tr>\n",
       "    <tr>\n",
       "      <th>brexit</th>\n",
       "      <td>569</td>\n",
       "    </tr>\n",
       "    <tr>\n",
       "      <th>setzt</th>\n",
       "      <td>563</td>\n",
       "    </tr>\n",
       "    <tr>\n",
       "      <th>insider</th>\n",
       "      <td>557</td>\n",
       "    </tr>\n",
       "    <tr>\n",
       "      <th>fordert</th>\n",
       "      <td>554</td>\n",
       "    </tr>\n",
       "    <tr>\n",
       "      <th>vw</th>\n",
       "      <td>551</td>\n",
       "    </tr>\n",
       "    <tr>\n",
       "      <th>neuer</th>\n",
       "      <td>549</td>\n",
       "    </tr>\n",
       "    <tr>\n",
       "      <th>ag</th>\n",
       "      <td>517</td>\n",
       "    </tr>\n",
       "    <tr>\n",
       "      <th>krise</th>\n",
       "      <td>498</td>\n",
       "    </tr>\n",
       "    <tr>\n",
       "      <th>dax</th>\n",
       "      <td>490</td>\n",
       "    </tr>\n",
       "    <tr>\n",
       "      <th>seit</th>\n",
       "      <td>486</td>\n",
       "    </tr>\n",
       "    <tr>\n",
       "      <th>trotz</th>\n",
       "      <td>470</td>\n",
       "    </tr>\n",
       "    <tr>\n",
       "      <th>geht</th>\n",
       "      <td>465</td>\n",
       "    </tr>\n",
       "    <tr>\n",
       "      <th>warnt</th>\n",
       "      <td>447</td>\n",
       "    </tr>\n",
       "    <tr>\n",
       "      <th>milliarden</th>\n",
       "      <td>445</td>\n",
       "    </tr>\n",
       "    <tr>\n",
       "      <th>droht</th>\n",
       "      <td>437</td>\n",
       "    </tr>\n",
       "    <tr>\n",
       "      <th>neuen</th>\n",
       "      <td>429</td>\n",
       "    </tr>\n",
       "    <tr>\n",
       "      <th>facebook</th>\n",
       "      <td>424</td>\n",
       "    </tr>\n",
       "    <tr>\n",
       "      <th>banken</th>\n",
       "      <td>423</td>\n",
       "    </tr>\n",
       "    <tr>\n",
       "      <th>europa</th>\n",
       "      <td>418</td>\n",
       "    </tr>\n",
       "    <tr>\n",
       "      <th>sieht</th>\n",
       "      <td>414</td>\n",
       "    </tr>\n",
       "    <tr>\n",
       "      <th>prozent</th>\n",
       "      <td>410</td>\n",
       "    </tr>\n",
       "    <tr>\n",
       "      <th>industrie</th>\n",
       "      <td>405</td>\n",
       "    </tr>\n",
       "    <tr>\n",
       "      <th>un</th>\n",
       "      <td>399</td>\n",
       "    </tr>\n",
       "  </tbody>\n",
       "</table>\n",
       "</div>"
      ],
      "text/plain": [
       "              count\n",
       "us             2191\n",
       "eu             1788\n",
       "deutsche       1425\n",
       "mehr           1371\n",
       "usa            1267\n",
       "euro           1185\n",
       "neue           1175\n",
       "ab             1149\n",
       "merkel         1030\n",
       "deutschland    1016\n",
       "trump           983\n",
       "wegen           918\n",
       "russland        918\n",
       "chef            864\n",
       "syrien          814\n",
       "china           781\n",
       "spd             778\n",
       "macht           771\n",
       "ezb             736\n",
       "bank            716\n",
       "wirtschaft      698\n",
       "ukraine         669\n",
       "regierung       608\n",
       "is              603\n",
       "griechenland    592\n",
       "tote            583\n",
       "online          577\n",
       "brexit          569\n",
       "setzt           563\n",
       "insider         557\n",
       "fordert         554\n",
       "vw              551\n",
       "neuer           549\n",
       "ag              517\n",
       "krise           498\n",
       "dax             490\n",
       "seit            486\n",
       "trotz           470\n",
       "geht            465\n",
       "warnt           447\n",
       "milliarden      445\n",
       "droht           437\n",
       "neuen           429\n",
       "facebook        424\n",
       "banken          423\n",
       "europa          418\n",
       "sieht           414\n",
       "prozent         410\n",
       "industrie       405\n",
       "un              399"
      ]
     },
     "metadata": {},
     "execution_count": 18
    }
   ],
   "metadata": {
    "execution": {
     "iopub.execute_input": "2021-09-16T16:19:05.390782Z",
     "iopub.status.busy": "2021-09-16T16:19:05.390140Z",
     "iopub.status.idle": "2021-09-16T16:19:05.404358Z",
     "shell.execute_reply": "2021-09-16T16:19:05.403861Z",
     "shell.execute_reply.started": "2021-09-16T15:55:40.750824Z"
    },
    "papermill": {
     "duration": 0.050401,
     "end_time": "2021-09-16T16:19:05.404528",
     "exception": false,
     "start_time": "2021-09-16T16:19:05.354127",
     "status": "completed"
    },
    "tags": []
   }
  },
  {
   "cell_type": "markdown",
   "source": [
    "Now count vec the body..."
   ],
   "metadata": {
    "papermill": {
     "duration": 0.033735,
     "end_time": "2021-09-16T16:19:05.473716",
     "exception": false,
     "start_time": "2021-09-16T16:19:05.439981",
     "status": "completed"
    },
    "tags": []
   }
  },
  {
   "cell_type": "code",
   "execution_count": 19,
   "source": [
    "count_vec_body = CountVectorizer(stop_words=stopword_list,\n",
    "                                  token_pattern=r'\\b[a-zA-Z]{2,}\\b',\n",
    "                                  max_features=50,\n",
    "                                  #ngram_range=(2,2)\n",
    "                                )\n",
    "count_vec_body.fit(df['Body'])\n",
    "word_counts_in_body = count_vec_body.transform(df['Body']).todense()"
   ],
   "outputs": [],
   "metadata": {
    "execution": {
     "iopub.execute_input": "2021-09-16T16:19:05.565991Z",
     "iopub.status.busy": "2021-09-16T16:19:05.560913Z",
     "iopub.status.idle": "2021-09-16T16:19:49.519624Z",
     "shell.execute_reply": "2021-09-16T16:19:49.519003Z",
     "shell.execute_reply.started": "2021-09-16T15:55:40.766904Z"
    },
    "papermill": {
     "duration": 44.012255,
     "end_time": "2021-09-16T16:19:49.519822",
     "exception": false,
     "start_time": "2021-09-16T16:19:05.507567",
     "status": "completed"
    },
    "tags": []
   }
  },
  {
   "cell_type": "code",
   "execution_count": 20,
   "source": [
    "df_body = pd.DataFrame(word_counts_in_body, columns=count_vec_body.get_feature_names())\n",
    "df_body.head()"
   ],
   "outputs": [
    {
     "output_type": "execute_result",
     "data": {
      "text/html": [
       "<div>\n",
       "<style scoped>\n",
       "    .dataframe tbody tr th:only-of-type {\n",
       "        vertical-align: middle;\n",
       "    }\n",
       "\n",
       "    .dataframe tbody tr th {\n",
       "        vertical-align: top;\n",
       "    }\n",
       "\n",
       "    .dataframe thead th {\n",
       "        text-align: right;\n",
       "    }\n",
       "</style>\n",
       "<table border=\"1\" class=\"dataframe\">\n",
       "  <thead>\n",
       "    <tr style=\"text-align: right;\">\n",
       "      <th></th>\n",
       "      <th>ab</th>\n",
       "      <th>allerdings</th>\n",
       "      <th>beim</th>\n",
       "      <th>bereits</th>\n",
       "      <th>com</th>\n",
       "      <th>dabei</th>\n",
       "      <th>de</th>\n",
       "      <th>deutschen</th>\n",
       "      <th>deutschland</th>\n",
       "      <th>dollar</th>\n",
       "      <th>...</th>\n",
       "      <th>viele</th>\n",
       "      <th>wegen</th>\n",
       "      <th>weitere</th>\n",
       "      <th>worden</th>\n",
       "      <th>wurde</th>\n",
       "      <th>wurden</th>\n",
       "      <th>www</th>\n",
       "      <th>zudem</th>\n",
       "      <th>zufolge</th>\n",
       "      <th>zwei</th>\n",
       "    </tr>\n",
       "  </thead>\n",
       "  <tbody>\n",
       "    <tr>\n",
       "      <th>0</th>\n",
       "      <td>0</td>\n",
       "      <td>0</td>\n",
       "      <td>0</td>\n",
       "      <td>0</td>\n",
       "      <td>0</td>\n",
       "      <td>0</td>\n",
       "      <td>0</td>\n",
       "      <td>0</td>\n",
       "      <td>0</td>\n",
       "      <td>0</td>\n",
       "      <td>...</td>\n",
       "      <td>0</td>\n",
       "      <td>0</td>\n",
       "      <td>1</td>\n",
       "      <td>0</td>\n",
       "      <td>1</td>\n",
       "      <td>1</td>\n",
       "      <td>0</td>\n",
       "      <td>0</td>\n",
       "      <td>0</td>\n",
       "      <td>0</td>\n",
       "    </tr>\n",
       "    <tr>\n",
       "      <th>1</th>\n",
       "      <td>0</td>\n",
       "      <td>1</td>\n",
       "      <td>0</td>\n",
       "      <td>0</td>\n",
       "      <td>0</td>\n",
       "      <td>0</td>\n",
       "      <td>0</td>\n",
       "      <td>0</td>\n",
       "      <td>0</td>\n",
       "      <td>0</td>\n",
       "      <td>...</td>\n",
       "      <td>0</td>\n",
       "      <td>0</td>\n",
       "      <td>1</td>\n",
       "      <td>0</td>\n",
       "      <td>0</td>\n",
       "      <td>0</td>\n",
       "      <td>0</td>\n",
       "      <td>0</td>\n",
       "      <td>0</td>\n",
       "      <td>0</td>\n",
       "    </tr>\n",
       "    <tr>\n",
       "      <th>2</th>\n",
       "      <td>0</td>\n",
       "      <td>0</td>\n",
       "      <td>0</td>\n",
       "      <td>0</td>\n",
       "      <td>0</td>\n",
       "      <td>0</td>\n",
       "      <td>0</td>\n",
       "      <td>0</td>\n",
       "      <td>0</td>\n",
       "      <td>0</td>\n",
       "      <td>...</td>\n",
       "      <td>0</td>\n",
       "      <td>0</td>\n",
       "      <td>0</td>\n",
       "      <td>0</td>\n",
       "      <td>2</td>\n",
       "      <td>1</td>\n",
       "      <td>0</td>\n",
       "      <td>1</td>\n",
       "      <td>0</td>\n",
       "      <td>0</td>\n",
       "    </tr>\n",
       "    <tr>\n",
       "      <th>3</th>\n",
       "      <td>1</td>\n",
       "      <td>0</td>\n",
       "      <td>0</td>\n",
       "      <td>0</td>\n",
       "      <td>0</td>\n",
       "      <td>0</td>\n",
       "      <td>0</td>\n",
       "      <td>0</td>\n",
       "      <td>0</td>\n",
       "      <td>0</td>\n",
       "      <td>...</td>\n",
       "      <td>0</td>\n",
       "      <td>0</td>\n",
       "      <td>0</td>\n",
       "      <td>0</td>\n",
       "      <td>1</td>\n",
       "      <td>0</td>\n",
       "      <td>0</td>\n",
       "      <td>0</td>\n",
       "      <td>0</td>\n",
       "      <td>0</td>\n",
       "    </tr>\n",
       "    <tr>\n",
       "      <th>4</th>\n",
       "      <td>0</td>\n",
       "      <td>0</td>\n",
       "      <td>0</td>\n",
       "      <td>0</td>\n",
       "      <td>0</td>\n",
       "      <td>0</td>\n",
       "      <td>0</td>\n",
       "      <td>0</td>\n",
       "      <td>0</td>\n",
       "      <td>0</td>\n",
       "      <td>...</td>\n",
       "      <td>0</td>\n",
       "      <td>0</td>\n",
       "      <td>0</td>\n",
       "      <td>0</td>\n",
       "      <td>0</td>\n",
       "      <td>0</td>\n",
       "      <td>0</td>\n",
       "      <td>0</td>\n",
       "      <td>0</td>\n",
       "      <td>0</td>\n",
       "    </tr>\n",
       "  </tbody>\n",
       "</table>\n",
       "<p>5 rows × 50 columns</p>\n",
       "</div>"
      ],
      "text/plain": [
       "   ab  allerdings  beim  bereits  com  dabei  de  deutschen  deutschland  \\\n",
       "0   0           0     0        0    0      0   0          0            0   \n",
       "1   0           1     0        0    0      0   0          0            0   \n",
       "2   0           0     0        0    0      0   0          0            0   \n",
       "3   1           0     0        0    0      0   0          0            0   \n",
       "4   0           0     0        0    0      0   0          0            0   \n",
       "\n",
       "   dollar  ...  viele  wegen  weitere  worden  wurde  wurden  www  zudem  \\\n",
       "0       0  ...      0      0        1       0      1       1    0      0   \n",
       "1       0  ...      0      0        1       0      0       0    0      0   \n",
       "2       0  ...      0      0        0       0      2       1    0      1   \n",
       "3       0  ...      0      0        0       0      1       0    0      0   \n",
       "4       0  ...      0      0        0       0      0       0    0      0   \n",
       "\n",
       "   zufolge  zwei  \n",
       "0        0     0  \n",
       "1        0     0  \n",
       "2        0     0  \n",
       "3        0     0  \n",
       "4        0     0  \n",
       "\n",
       "[5 rows x 50 columns]"
      ]
     },
     "metadata": {},
     "execution_count": 20
    }
   ],
   "metadata": {
    "execution": {
     "iopub.execute_input": "2021-09-16T16:19:49.608900Z",
     "iopub.status.busy": "2021-09-16T16:19:49.607902Z",
     "iopub.status.idle": "2021-09-16T16:19:49.612673Z",
     "shell.execute_reply": "2021-09-16T16:19:49.612043Z",
     "shell.execute_reply.started": "2021-09-16T15:56:23.838479Z"
    },
    "papermill": {
     "duration": 0.058799,
     "end_time": "2021-09-16T16:19:49.612838",
     "exception": false,
     "start_time": "2021-09-16T16:19:49.554039",
     "status": "completed"
    },
    "tags": []
   }
  },
  {
   "cell_type": "code",
   "execution_count": 21,
   "source": [
    "df_body_trans = pd.DataFrame(df_body.T.sum(axis=1), columns=['count'])\n",
    "df_body_trans.sort_values(by='count', ascending=False).head(20)"
   ],
   "outputs": [
    {
     "output_type": "execute_result",
     "data": {
      "text/html": [
       "<div>\n",
       "<style scoped>\n",
       "    .dataframe tbody tr th:only-of-type {\n",
       "        vertical-align: middle;\n",
       "    }\n",
       "\n",
       "    .dataframe tbody tr th {\n",
       "        vertical-align: top;\n",
       "    }\n",
       "\n",
       "    .dataframe thead th {\n",
       "        text-align: right;\n",
       "    }\n",
       "</style>\n",
       "<table border=\"1\" class=\"dataframe\">\n",
       "  <thead>\n",
       "    <tr style=\"text-align: right;\">\n",
       "      <th></th>\n",
       "      <th>count</th>\n",
       "    </tr>\n",
       "  </thead>\n",
       "  <tbody>\n",
       "    <tr>\n",
       "      <th>prozent</th>\n",
       "      <td>81511</td>\n",
       "    </tr>\n",
       "    <tr>\n",
       "      <th>sagte</th>\n",
       "      <td>54035</td>\n",
       "    </tr>\n",
       "    <tr>\n",
       "      <th>mehr</th>\n",
       "      <td>51646</td>\n",
       "    </tr>\n",
       "    <tr>\n",
       "      <th>euro</th>\n",
       "      <td>51302</td>\n",
       "    </tr>\n",
       "    <tr>\n",
       "      <th>http</th>\n",
       "      <td>46753</td>\n",
       "    </tr>\n",
       "    <tr>\n",
       "      <th>sei</th>\n",
       "      <td>41417</td>\n",
       "    </tr>\n",
       "    <tr>\n",
       "      <th>seit</th>\n",
       "      <td>30498</td>\n",
       "    </tr>\n",
       "    <tr>\n",
       "      <th>us</th>\n",
       "      <td>30249</td>\n",
       "    </tr>\n",
       "    <tr>\n",
       "      <th>unternehmen</th>\n",
       "      <td>29656</td>\n",
       "    </tr>\n",
       "    <tr>\n",
       "      <th>www</th>\n",
       "      <td>28723</td>\n",
       "    </tr>\n",
       "    <tr>\n",
       "      <th>eu</th>\n",
       "      <td>28719</td>\n",
       "    </tr>\n",
       "    <tr>\n",
       "      <th>bereits</th>\n",
       "      <td>28161</td>\n",
       "    </tr>\n",
       "    <tr>\n",
       "      <th>jahr</th>\n",
       "      <td>28038</td>\n",
       "    </tr>\n",
       "    <tr>\n",
       "      <th>milliarden</th>\n",
       "      <td>25690</td>\n",
       "    </tr>\n",
       "    <tr>\n",
       "      <th>wurde</th>\n",
       "      <td>25393</td>\n",
       "    </tr>\n",
       "    <tr>\n",
       "      <th>rund</th>\n",
       "      <td>24031</td>\n",
       "    </tr>\n",
       "    <tr>\n",
       "      <th>deutschland</th>\n",
       "      <td>23939</td>\n",
       "    </tr>\n",
       "    <tr>\n",
       "      <th>jahren</th>\n",
       "      <td>22592</td>\n",
       "    </tr>\n",
       "    <tr>\n",
       "      <th>zwei</th>\n",
       "      <td>22227</td>\n",
       "    </tr>\n",
       "    <tr>\n",
       "      <th>de</th>\n",
       "      <td>21852</td>\n",
       "    </tr>\n",
       "  </tbody>\n",
       "</table>\n",
       "</div>"
      ],
      "text/plain": [
       "             count\n",
       "prozent      81511\n",
       "sagte        54035\n",
       "mehr         51646\n",
       "euro         51302\n",
       "http         46753\n",
       "sei          41417\n",
       "seit         30498\n",
       "us           30249\n",
       "unternehmen  29656\n",
       "www          28723\n",
       "eu           28719\n",
       "bereits      28161\n",
       "jahr         28038\n",
       "milliarden   25690\n",
       "wurde        25393\n",
       "rund         24031\n",
       "deutschland  23939\n",
       "jahren       22592\n",
       "zwei         22227\n",
       "de           21852"
      ]
     },
     "metadata": {},
     "execution_count": 21
    }
   ],
   "metadata": {
    "execution": {
     "iopub.execute_input": "2021-09-16T16:19:49.687792Z",
     "iopub.status.busy": "2021-09-16T16:19:49.687146Z",
     "iopub.status.idle": "2021-09-16T16:19:49.887683Z",
     "shell.execute_reply": "2021-09-16T16:19:49.887129Z",
     "shell.execute_reply.started": "2021-09-16T15:56:23.862699Z"
    },
    "papermill": {
     "duration": 0.240377,
     "end_time": "2021-09-16T16:19:49.887839",
     "exception": false,
     "start_time": "2021-09-16T16:19:49.647462",
     "status": "completed"
    },
    "tags": []
   }
  }
 ],
 "metadata": {
  "kernelspec": {
   "name": "python3",
   "display_name": "Python 3.8.8 64-bit (conda)"
  },
  "language_info": {
   "codemirror_mode": {
    "name": "ipython",
    "version": 3
   },
   "file_extension": ".py",
   "mimetype": "text/x-python",
   "name": "python",
   "nbconvert_exporter": "python",
   "pygments_lexer": "ipython3",
   "version": "3.8.8"
  },
  "papermill": {
   "default_parameters": {},
   "duration": 71.786926,
   "end_time": "2021-09-16T16:19:52.191261",
   "environment_variables": {},
   "exception": null,
   "input_path": "__notebook__.ipynb",
   "output_path": "__notebook__.ipynb",
   "parameters": {},
   "start_time": "2021-09-16T16:18:40.404335",
   "version": "2.3.3"
  },
  "interpreter": {
   "hash": "4eb32842e5a47a9a6f8bff6cac9adadb6b57050dcae682228e9984011a72b302"
  }
 },
 "nbformat": 4,
 "nbformat_minor": 5
}