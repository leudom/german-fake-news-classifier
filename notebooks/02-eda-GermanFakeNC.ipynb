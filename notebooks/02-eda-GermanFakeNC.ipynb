{
 "cells": [
  {
   "cell_type": "markdown",
   "source": [
    "# EDA on German Fake News Dataset"
   ],
   "metadata": {
    "papermill": {
     "duration": 0.028289,
     "end_time": "2021-09-16T16:18:48.494895",
     "exception": false,
     "start_time": "2021-09-16T16:18:48.466606",
     "status": "completed"
    },
    "tags": []
   }
  },
  {
   "cell_type": "code",
   "execution_count": 3,
   "source": [
    "import os\n",
    "import numpy as np # linear algebra\n",
    "import pandas as pd # data processing, CSV file I/O (e.g. pd.read_csv)\n",
    "from sklearn.feature_extraction.text import CountVectorizer, TfidfVectorizer\n",
    "import nltk\n",
    "\n",
    "#from nltk.corpus import stopwords\n",
    "from dotenv import find_dotenv, load_dotenv\n",
    "load_dotenv(find_dotenv())\n",
    "\n",
    "\n",
    "pd.set_option('display.max_rows', 100)"
   ],
   "outputs": [],
   "metadata": {
    "_cell_guid": "b1076dfc-b9ad-4769-8c92-a6c4dae69d19",
    "_uuid": "8f2839f25d086af736a60e9eeb907d3b93b6e0e5",
    "execution": {
     "iopub.execute_input": "2021-09-16T16:18:48.551738Z",
     "iopub.status.busy": "2021-09-16T16:18:48.550575Z",
     "iopub.status.idle": "2021-09-16T16:18:50.164099Z",
     "shell.execute_reply": "2021-09-16T16:18:50.163388Z",
     "shell.execute_reply.started": "2021-09-16T15:55:25.121240Z"
    },
    "papermill": {
     "duration": 1.642953,
     "end_time": "2021-09-16T16:18:50.164299",
     "exception": false,
     "start_time": "2021-09-16T16:18:48.521346",
     "status": "completed"
    },
    "tags": []
   }
  },
  {
   "cell_type": "markdown",
   "source": [
    "## Read data"
   ],
   "metadata": {
    "papermill": {
     "duration": 0.026218,
     "end_time": "2021-09-16T16:18:50.217641",
     "exception": false,
     "start_time": "2021-09-16T16:18:50.191423",
     "status": "completed"
    },
    "tags": []
   }
  },
  {
   "cell_type": "code",
   "execution_count": 59,
   "source": [
    "\n",
    "FAKE_NEWS_CSV = os.path.join(os.getenv('PROJECT_DIR'), 'data', 'interim', 'GermanFakeNC_interim.csv')\n",
    "df = pd.read_csv(FAKE_NEWS_CSV)\n",
    "df.head(20)"
   ],
   "outputs": [
    {
     "output_type": "execute_result",
     "data": {
      "text/html": [
       "<div>\n",
       "<style scoped>\n",
       "    .dataframe tbody tr th:only-of-type {\n",
       "        vertical-align: middle;\n",
       "    }\n",
       "\n",
       "    .dataframe tbody tr th {\n",
       "        vertical-align: top;\n",
       "    }\n",
       "\n",
       "    .dataframe thead th {\n",
       "        text-align: right;\n",
       "    }\n",
       "</style>\n",
       "<table border=\"1\" class=\"dataframe\">\n",
       "  <thead>\n",
       "    <tr style=\"text-align: right;\">\n",
       "      <th></th>\n",
       "      <th>Date</th>\n",
       "      <th>URL</th>\n",
       "      <th>False_Statement_1_Location</th>\n",
       "      <th>False_Statement_1_Index</th>\n",
       "      <th>False_Statement_2_Location</th>\n",
       "      <th>False_Statement_2_Index</th>\n",
       "      <th>False_Statement_3_Location</th>\n",
       "      <th>False_Statement_3_Index</th>\n",
       "      <th>Ratio_of_Fake_Statements</th>\n",
       "      <th>Overall_Rating</th>\n",
       "      <th>titel</th>\n",
       "      <th>text</th>\n",
       "    </tr>\n",
       "  </thead>\n",
       "  <tbody>\n",
       "    <tr>\n",
       "      <th>0</th>\n",
       "      <td>2017-08-30</td>\n",
       "      <td>https://schluesselkindblog.com/2017/08/30/proz...</td>\n",
       "      <td>Text</td>\n",
       "      <td>213-237</td>\n",
       "      <td>NaN</td>\n",
       "      <td>NaN</td>\n",
       "      <td>NaN</td>\n",
       "      <td>NaN</td>\n",
       "      <td>1</td>\n",
       "      <td>0.7</td>\n",
       "      <td>NaN</td>\n",
       "      <td>NaN</td>\n",
       "    </tr>\n",
       "    <tr>\n",
       "      <th>1</th>\n",
       "      <td>2017-12-18</td>\n",
       "      <td>http://blauerbote.com/2017/12/18/bild-journali...</td>\n",
       "      <td>Text</td>\n",
       "      <td>13-36</td>\n",
       "      <td>Text</td>\n",
       "      <td>52-81</td>\n",
       "      <td>NaN</td>\n",
       "      <td>NaN</td>\n",
       "      <td>3</td>\n",
       "      <td>0.8</td>\n",
       "      <td>BILD-Journalist Julian Röpcke und seine Nazifr...</td>\n",
       "      <td>Es ist schon ein (Haken-) Kreuz mit der Bildze...</td>\n",
       "    </tr>\n",
       "    <tr>\n",
       "      <th>2</th>\n",
       "      <td>2017-06-02</td>\n",
       "      <td>http://blauerbote.com/2017/06/02/angela-merkel...</td>\n",
       "      <td>Title</td>\n",
       "      <td>1-7</td>\n",
       "      <td>Text</td>\n",
       "      <td>70-94</td>\n",
       "      <td>Text</td>\n",
       "      <td>121-153</td>\n",
       "      <td>3</td>\n",
       "      <td>0.7</td>\n",
       "      <td>Angela Merkel läßt Rock am Ring abbrechen – Bl...</td>\n",
       "      <td>Auch heute noch für Aufsehen sorgte der Widers...</td>\n",
       "    </tr>\n",
       "    <tr>\n",
       "      <th>3</th>\n",
       "      <td>2018-02-17</td>\n",
       "      <td>http://www.truth24.net/gruppenvergewaltigung-s...</td>\n",
       "      <td>Title</td>\n",
       "      <td>1-1</td>\n",
       "      <td>Title</td>\n",
       "      <td>3-4</td>\n",
       "      <td>Title</td>\n",
       "      <td>6-7</td>\n",
       "      <td>1</td>\n",
       "      <td>0.4</td>\n",
       "      <td>Gruppenvergewaltigung: Sex Jihadisten vergewal...</td>\n",
       "      <td>Bad Soden / Hofheim. Beim Herumvagabundieren ü...</td>\n",
       "    </tr>\n",
       "    <tr>\n",
       "      <th>4</th>\n",
       "      <td>2016-09-18</td>\n",
       "      <td>http://www.rapefugees.net/ozapft-is-tuerke-ver...</td>\n",
       "      <td>Text</td>\n",
       "      <td>18-37</td>\n",
       "      <td>NaN</td>\n",
       "      <td>NaN</td>\n",
       "      <td>NaN</td>\n",
       "      <td>NaN</td>\n",
       "      <td>1</td>\n",
       "      <td>0.5</td>\n",
       "      <td>Ozapft Is! Türke versucht Koreanerin auf die W...</td>\n",
       "      <td>Bereits der erste Tag startet wieder mit einer...</td>\n",
       "    </tr>\n",
       "    <tr>\n",
       "      <th>5</th>\n",
       "      <td>2018-02-09</td>\n",
       "      <td>https://blog.halle-leaks.de/dresden-wieder-kin...</td>\n",
       "      <td>Text</td>\n",
       "      <td>14-22</td>\n",
       "      <td>NaN</td>\n",
       "      <td>NaN</td>\n",
       "      <td>NaN</td>\n",
       "      <td>NaN</td>\n",
       "      <td>1</td>\n",
       "      <td>0.4</td>\n",
       "      <td>WARTUNGSARBEITEN</td>\n",
       "      <td>NaN</td>\n",
       "    </tr>\n",
       "    <tr>\n",
       "      <th>6</th>\n",
       "      <td>2018-02-05</td>\n",
       "      <td>https://www.unzensuriert.at/content/0026189-Ka...</td>\n",
       "      <td>Title</td>\n",
       "      <td>1-8</td>\n",
       "      <td>NaN</td>\n",
       "      <td>NaN</td>\n",
       "      <td>NaN</td>\n",
       "      <td>NaN</td>\n",
       "      <td>1</td>\n",
       "      <td>0.6</td>\n",
       "      <td>Katalonien: 100 Tage Diktatur des spanischen Z...</td>\n",
       "      <td>Spanien 5. Feber 2018 / 20:06\\n\\nKatalonien: 1...</td>\n",
       "    </tr>\n",
       "    <tr>\n",
       "      <th>7</th>\n",
       "      <td>2018-01-22</td>\n",
       "      <td>http://www.guidograndt.de/2018/01/22/kollegenb...</td>\n",
       "      <td>Text</td>\n",
       "      <td>31-56</td>\n",
       "      <td>Text</td>\n",
       "      <td>20-29</td>\n",
       "      <td>NaN</td>\n",
       "      <td>NaN</td>\n",
       "      <td>1</td>\n",
       "      <td>0.6</td>\n",
       "      <td>KOLLEGENBEITRAG: “Wähler-Verräter SPD?!”</td>\n",
       "      <td>EIN KOLLEGENBEITRAG von MICHAEL GRANDT\\n\\nSPD-...</td>\n",
       "    </tr>\n",
       "    <tr>\n",
       "      <th>8</th>\n",
       "      <td>2017-12-10</td>\n",
       "      <td>https://de.sott.net/article/31971-Umfrage-92-d...</td>\n",
       "      <td>Title</td>\n",
       "      <td>1-17</td>\n",
       "      <td>Text</td>\n",
       "      <td>157-187</td>\n",
       "      <td>Text</td>\n",
       "      <td>189-212</td>\n",
       "      <td>3</td>\n",
       "      <td>0.8</td>\n",
       "      <td>Schnauze voll von Poroschenko -- Das Kind der ...</td>\n",
       "      <td>Die meisten Zuschauer des ukrainischen TV-Send...</td>\n",
       "    </tr>\n",
       "    <tr>\n",
       "      <th>9</th>\n",
       "      <td>2018-02-17</td>\n",
       "      <td>http://info-direkt.eu/2018/02/17/staedte-volle...</td>\n",
       "      <td>Text</td>\n",
       "      <td>362-390</td>\n",
       "      <td>Text</td>\n",
       "      <td>441-459</td>\n",
       "      <td>Text</td>\n",
       "      <td>467-483</td>\n",
       "      <td>2</td>\n",
       "      <td>0.6</td>\n",
       "      <td>Städte voller leerer Menschen! Was tun?</td>\n",
       "      <td>Der Mensch in einer Betonwüste, entwurzelt und...</td>\n",
       "    </tr>\n",
       "    <tr>\n",
       "      <th>10</th>\n",
       "      <td>2017-11-12</td>\n",
       "      <td>https://blog.halle-leaks.de/allahu-helau-massi...</td>\n",
       "      <td>Title</td>\n",
       "      <td>1-13</td>\n",
       "      <td>NaN</td>\n",
       "      <td>NaN</td>\n",
       "      <td>NaN</td>\n",
       "      <td>NaN</td>\n",
       "      <td>1</td>\n",
       "      <td>0.8</td>\n",
       "      <td>WARTUNGSARBEITEN</td>\n",
       "      <td>NaN</td>\n",
       "    </tr>\n",
       "    <tr>\n",
       "      <th>11</th>\n",
       "      <td>2017-10-24</td>\n",
       "      <td>http://www.pi-news.net/hamburg-pakistaner-scha...</td>\n",
       "      <td>Title</td>\n",
       "      <td>1-6</td>\n",
       "      <td>Text</td>\n",
       "      <td>289-333</td>\n",
       "      <td>NaN</td>\n",
       "      <td>NaN</td>\n",
       "      <td>2</td>\n",
       "      <td>0.5</td>\n",
       "      <td>Hamburg: Pakistaner schächtet zweijährige Tochter</td>\n",
       "      <td>Von JOHANNES DANIELS | Eine Bluttat im Ortstei...</td>\n",
       "    </tr>\n",
       "    <tr>\n",
       "      <th>12</th>\n",
       "      <td>2018-01-30</td>\n",
       "      <td>http://www.guidograndt.de/2018/01/30/verschwie...</td>\n",
       "      <td>Text</td>\n",
       "      <td>255-295</td>\n",
       "      <td>Text</td>\n",
       "      <td>14-58</td>\n",
       "      <td>Text</td>\n",
       "      <td>58-69</td>\n",
       "      <td>2</td>\n",
       "      <td>0.7</td>\n",
       "      <td>VERSCHWIEGEN vom Mainstream: “SUPERMAN” PUTIN!...</td>\n",
       "      <td>Ich kann es nicht mehr hören: Tagtäglich Russl...</td>\n",
       "    </tr>\n",
       "    <tr>\n",
       "      <th>13</th>\n",
       "      <td>2017-12-17</td>\n",
       "      <td>https://de.sott.net/article/32015-Die-meisten-...</td>\n",
       "      <td>Title</td>\n",
       "      <td>2-7</td>\n",
       "      <td>Text</td>\n",
       "      <td>661-685</td>\n",
       "      <td>NaN</td>\n",
       "      <td>NaN</td>\n",
       "      <td>3</td>\n",
       "      <td>0.6</td>\n",
       "      <td>\"Die meisten Forschungsergebnisse sind falsch\"...</td>\n",
       "      <td>Es gibt nun zwingende Beweise aus mehreren Ber...</td>\n",
       "    </tr>\n",
       "    <tr>\n",
       "      <th>14</th>\n",
       "      <td>2018-02-21</td>\n",
       "      <td>https://schluesselkindblog.com/2018/02/21/gaul...</td>\n",
       "      <td>Text</td>\n",
       "      <td>18-50</td>\n",
       "      <td>Text</td>\n",
       "      <td>100-128</td>\n",
       "      <td>NaN</td>\n",
       "      <td>NaN</td>\n",
       "      <td>1</td>\n",
       "      <td>0.6</td>\n",
       "      <td>NaN</td>\n",
       "      <td>NaN</td>\n",
       "    </tr>\n",
       "    <tr>\n",
       "      <th>15</th>\n",
       "      <td>2018-02-05</td>\n",
       "      <td>https://philosophia-perennis.com/2018/02/05/un...</td>\n",
       "      <td>Text</td>\n",
       "      <td>5-22</td>\n",
       "      <td>NaN</td>\n",
       "      <td>NaN</td>\n",
       "      <td>NaN</td>\n",
       "      <td>NaN</td>\n",
       "      <td>1</td>\n",
       "      <td>0.3</td>\n",
       "      <td>13jährige vergewaltigt: Schon unterhalb der Wa...</td>\n",
       "      <td>(A.R. Göhring) Manch kritischer Geist fragt si...</td>\n",
       "    </tr>\n",
       "    <tr>\n",
       "      <th>16</th>\n",
       "      <td>2018-02-15</td>\n",
       "      <td>http://www.epochtimes.de/politik/deutschland/v...</td>\n",
       "      <td>Title</td>\n",
       "      <td>1-20</td>\n",
       "      <td>Text</td>\n",
       "      <td>149-204</td>\n",
       "      <td>NaN</td>\n",
       "      <td>NaN</td>\n",
       "      <td>2</td>\n",
       "      <td>0.6</td>\n",
       "      <td>Viersen: Seniorin (65) beim Friedhof vergewalt...</td>\n",
       "      <td>Eine Frau wurde vergewaltigt. Beim Friedhof. V...</td>\n",
       "    </tr>\n",
       "    <tr>\n",
       "      <th>17</th>\n",
       "      <td>2018-02-07</td>\n",
       "      <td>https://www.bayern-depesche.de/medien/zdf-heut...</td>\n",
       "      <td>Teaser</td>\n",
       "      <td>3-25</td>\n",
       "      <td>Text</td>\n",
       "      <td>91-154</td>\n",
       "      <td>Text</td>\n",
       "      <td>169-187</td>\n",
       "      <td>2</td>\n",
       "      <td>0.7</td>\n",
       "      <td>ZDF 'heute Show': Die unerträgliche Hetze des ...</td>\n",
       "      <td>Der öffentlich-rechtliche Rundfunk fällt regel...</td>\n",
       "    </tr>\n",
       "    <tr>\n",
       "      <th>18</th>\n",
       "      <td>2017-04-02</td>\n",
       "      <td>http://www.rapefugees.net/ekelhaft-schwarzafri...</td>\n",
       "      <td>Teaser</td>\n",
       "      <td>1-33</td>\n",
       "      <td>Text</td>\n",
       "      <td>576-588</td>\n",
       "      <td>Text</td>\n",
       "      <td>678-703</td>\n",
       "      <td>3</td>\n",
       "      <td>0.9</td>\n",
       "      <td>Ekelhaft! Schwarzafrikaner vergewaltigt Frau v...</td>\n",
       "      <td>Unfassbar, mit gezogener Machete attackiert ei...</td>\n",
       "    </tr>\n",
       "    <tr>\n",
       "      <th>19</th>\n",
       "      <td>2017-04-02</td>\n",
       "      <td>http://blauerbote.com/2017/04/02/pfefferspray-...</td>\n",
       "      <td>Text</td>\n",
       "      <td>1-12</td>\n",
       "      <td>Text</td>\n",
       "      <td>1-30</td>\n",
       "      <td>Text</td>\n",
       "      <td>57-89</td>\n",
       "      <td>3</td>\n",
       "      <td>0.8</td>\n",
       "      <td>Pfefferspray gegen Sitzblockade – Polizeigewal...</td>\n",
       "      <td>Bei einer Sitzblockade im thüringischen Sonnen...</td>\n",
       "    </tr>\n",
       "  </tbody>\n",
       "</table>\n",
       "</div>"
      ],
      "text/plain": [
       "          Date                                                URL  \\\n",
       "0   2017-08-30  https://schluesselkindblog.com/2017/08/30/proz...   \n",
       "1   2017-12-18  http://blauerbote.com/2017/12/18/bild-journali...   \n",
       "2   2017-06-02  http://blauerbote.com/2017/06/02/angela-merkel...   \n",
       "3   2018-02-17  http://www.truth24.net/gruppenvergewaltigung-s...   \n",
       "4   2016-09-18  http://www.rapefugees.net/ozapft-is-tuerke-ver...   \n",
       "5   2018-02-09  https://blog.halle-leaks.de/dresden-wieder-kin...   \n",
       "6   2018-02-05  https://www.unzensuriert.at/content/0026189-Ka...   \n",
       "7   2018-01-22  http://www.guidograndt.de/2018/01/22/kollegenb...   \n",
       "8   2017-12-10  https://de.sott.net/article/31971-Umfrage-92-d...   \n",
       "9   2018-02-17  http://info-direkt.eu/2018/02/17/staedte-volle...   \n",
       "10  2017-11-12  https://blog.halle-leaks.de/allahu-helau-massi...   \n",
       "11  2017-10-24  http://www.pi-news.net/hamburg-pakistaner-scha...   \n",
       "12  2018-01-30  http://www.guidograndt.de/2018/01/30/verschwie...   \n",
       "13  2017-12-17  https://de.sott.net/article/32015-Die-meisten-...   \n",
       "14  2018-02-21  https://schluesselkindblog.com/2018/02/21/gaul...   \n",
       "15  2018-02-05  https://philosophia-perennis.com/2018/02/05/un...   \n",
       "16  2018-02-15  http://www.epochtimes.de/politik/deutschland/v...   \n",
       "17  2018-02-07  https://www.bayern-depesche.de/medien/zdf-heut...   \n",
       "18  2017-04-02  http://www.rapefugees.net/ekelhaft-schwarzafri...   \n",
       "19  2017-04-02  http://blauerbote.com/2017/04/02/pfefferspray-...   \n",
       "\n",
       "   False_Statement_1_Location False_Statement_1_Index  \\\n",
       "0                        Text                 213-237   \n",
       "1                        Text                   13-36   \n",
       "2                       Title                     1-7   \n",
       "3                       Title                     1-1   \n",
       "4                        Text                   18-37   \n",
       "5                        Text                   14-22   \n",
       "6                       Title                     1-8   \n",
       "7                        Text                   31-56   \n",
       "8                       Title                    1-17   \n",
       "9                        Text                 362-390   \n",
       "10                      Title                    1-13   \n",
       "11                      Title                     1-6   \n",
       "12                       Text                 255-295   \n",
       "13                      Title                     2-7   \n",
       "14                       Text                   18-50   \n",
       "15                       Text                    5-22   \n",
       "16                      Title                    1-20   \n",
       "17                     Teaser                    3-25   \n",
       "18                     Teaser                    1-33   \n",
       "19                       Text                    1-12   \n",
       "\n",
       "   False_Statement_2_Location False_Statement_2_Index  \\\n",
       "0                         NaN                     NaN   \n",
       "1                        Text                   52-81   \n",
       "2                        Text                   70-94   \n",
       "3                       Title                     3-4   \n",
       "4                         NaN                     NaN   \n",
       "5                         NaN                     NaN   \n",
       "6                         NaN                     NaN   \n",
       "7                        Text                   20-29   \n",
       "8                        Text                 157-187   \n",
       "9                        Text                 441-459   \n",
       "10                        NaN                     NaN   \n",
       "11                       Text                 289-333   \n",
       "12                       Text                   14-58   \n",
       "13                       Text                 661-685   \n",
       "14                       Text                 100-128   \n",
       "15                        NaN                     NaN   \n",
       "16                       Text                 149-204   \n",
       "17                       Text                  91-154   \n",
       "18                       Text                 576-588   \n",
       "19                       Text                    1-30   \n",
       "\n",
       "   False_Statement_3_Location False_Statement_3_Index  \\\n",
       "0                         NaN                     NaN   \n",
       "1                         NaN                     NaN   \n",
       "2                        Text                 121-153   \n",
       "3                       Title                     6-7   \n",
       "4                         NaN                     NaN   \n",
       "5                         NaN                     NaN   \n",
       "6                         NaN                     NaN   \n",
       "7                         NaN                     NaN   \n",
       "8                        Text                 189-212   \n",
       "9                        Text                 467-483   \n",
       "10                        NaN                     NaN   \n",
       "11                        NaN                     NaN   \n",
       "12                       Text                   58-69   \n",
       "13                        NaN                     NaN   \n",
       "14                        NaN                     NaN   \n",
       "15                        NaN                     NaN   \n",
       "16                        NaN                     NaN   \n",
       "17                       Text                 169-187   \n",
       "18                       Text                 678-703   \n",
       "19                       Text                   57-89   \n",
       "\n",
       "    Ratio_of_Fake_Statements  Overall_Rating  \\\n",
       "0                          1             0.7   \n",
       "1                          3             0.8   \n",
       "2                          3             0.7   \n",
       "3                          1             0.4   \n",
       "4                          1             0.5   \n",
       "5                          1             0.4   \n",
       "6                          1             0.6   \n",
       "7                          1             0.6   \n",
       "8                          3             0.8   \n",
       "9                          2             0.6   \n",
       "10                         1             0.8   \n",
       "11                         2             0.5   \n",
       "12                         2             0.7   \n",
       "13                         3             0.6   \n",
       "14                         1             0.6   \n",
       "15                         1             0.3   \n",
       "16                         2             0.6   \n",
       "17                         2             0.7   \n",
       "18                         3             0.9   \n",
       "19                         3             0.8   \n",
       "\n",
       "                                                titel  \\\n",
       "0                                                 NaN   \n",
       "1   BILD-Journalist Julian Röpcke und seine Nazifr...   \n",
       "2   Angela Merkel läßt Rock am Ring abbrechen – Bl...   \n",
       "3   Gruppenvergewaltigung: Sex Jihadisten vergewal...   \n",
       "4   Ozapft Is! Türke versucht Koreanerin auf die W...   \n",
       "5                                    WARTUNGSARBEITEN   \n",
       "6   Katalonien: 100 Tage Diktatur des spanischen Z...   \n",
       "7            KOLLEGENBEITRAG: “Wähler-Verräter SPD?!”   \n",
       "8   Schnauze voll von Poroschenko -- Das Kind der ...   \n",
       "9             Städte voller leerer Menschen! Was tun?   \n",
       "10                                   WARTUNGSARBEITEN   \n",
       "11  Hamburg: Pakistaner schächtet zweijährige Tochter   \n",
       "12  VERSCHWIEGEN vom Mainstream: “SUPERMAN” PUTIN!...   \n",
       "13  \"Die meisten Forschungsergebnisse sind falsch\"...   \n",
       "14                                                NaN   \n",
       "15  13jährige vergewaltigt: Schon unterhalb der Wa...   \n",
       "16  Viersen: Seniorin (65) beim Friedhof vergewalt...   \n",
       "17  ZDF 'heute Show': Die unerträgliche Hetze des ...   \n",
       "18  Ekelhaft! Schwarzafrikaner vergewaltigt Frau v...   \n",
       "19  Pfefferspray gegen Sitzblockade – Polizeigewal...   \n",
       "\n",
       "                                                 text  \n",
       "0                                                 NaN  \n",
       "1   Es ist schon ein (Haken-) Kreuz mit der Bildze...  \n",
       "2   Auch heute noch für Aufsehen sorgte der Widers...  \n",
       "3   Bad Soden / Hofheim. Beim Herumvagabundieren ü...  \n",
       "4   Bereits der erste Tag startet wieder mit einer...  \n",
       "5                                                 NaN  \n",
       "6   Spanien 5. Feber 2018 / 20:06\\n\\nKatalonien: 1...  \n",
       "7   EIN KOLLEGENBEITRAG von MICHAEL GRANDT\\n\\nSPD-...  \n",
       "8   Die meisten Zuschauer des ukrainischen TV-Send...  \n",
       "9   Der Mensch in einer Betonwüste, entwurzelt und...  \n",
       "10                                                NaN  \n",
       "11  Von JOHANNES DANIELS | Eine Bluttat im Ortstei...  \n",
       "12  Ich kann es nicht mehr hören: Tagtäglich Russl...  \n",
       "13  Es gibt nun zwingende Beweise aus mehreren Ber...  \n",
       "14                                                NaN  \n",
       "15  (A.R. Göhring) Manch kritischer Geist fragt si...  \n",
       "16  Eine Frau wurde vergewaltigt. Beim Friedhof. V...  \n",
       "17  Der öffentlich-rechtliche Rundfunk fällt regel...  \n",
       "18  Unfassbar, mit gezogener Machete attackiert ei...  \n",
       "19  Bei einer Sitzblockade im thüringischen Sonnen...  "
      ]
     },
     "metadata": {},
     "execution_count": 59
    }
   ],
   "metadata": {
    "execution": {
     "iopub.execute_input": "2021-09-16T16:18:50.276379Z",
     "iopub.status.busy": "2021-09-16T16:18:50.275595Z",
     "iopub.status.idle": "2021-09-16T16:18:55.218513Z",
     "shell.execute_reply": "2021-09-16T16:18:55.217962Z",
     "shell.execute_reply.started": "2021-09-16T15:55:26.985189Z"
    },
    "papermill": {
     "duration": 4.974594,
     "end_time": "2021-09-16T16:18:55.218688",
     "exception": false,
     "start_time": "2021-09-16T16:18:50.244094",
     "status": "completed"
    },
    "tags": []
   }
  },
  {
   "cell_type": "markdown",
   "source": [
    "## Start exploring the data"
   ],
   "metadata": {
    "papermill": {
     "duration": 0.026486,
     "end_time": "2021-09-16T16:18:55.271851",
     "exception": false,
     "start_time": "2021-09-16T16:18:55.245365",
     "status": "completed"
    },
    "tags": []
   }
  },
  {
   "cell_type": "code",
   "execution_count": 9,
   "source": [
    "print('Columns with missing values:')\n",
    "print(df.isnull().sum())"
   ],
   "outputs": [
    {
     "output_type": "stream",
     "name": "stdout",
     "text": [
      "Columns with missing values:\n",
      "Date                           19\n",
      "URL                             0\n",
      "False_Statement_1_Location      0\n",
      "False_Statement_1_Index        20\n",
      "False_Statement_2_Location    125\n",
      "False_Statement_2_Index       140\n",
      "False_Statement_3_Location    231\n",
      "False_Statement_3_Index       237\n",
      "Ratio_of_Fake_Statements        0\n",
      "Overall_Rating                  0\n",
      "titel                          16\n",
      "text                          103\n",
      "dtype: int64\n"
     ]
    }
   ],
   "metadata": {
    "execution": {
     "iopub.execute_input": "2021-09-16T16:18:55.381731Z",
     "iopub.status.busy": "2021-09-16T16:18:55.380723Z",
     "iopub.status.idle": "2021-09-16T16:18:55.389165Z",
     "shell.execute_reply": "2021-09-16T16:18:55.388597Z",
     "shell.execute_reply.started": "2021-09-16T15:55:32.336177Z"
    },
    "papermill": {
     "duration": 0.090589,
     "end_time": "2021-09-16T16:18:55.389333",
     "exception": false,
     "start_time": "2021-09-16T16:18:55.298744",
     "status": "completed"
    },
    "tags": []
   }
  },
  {
   "cell_type": "code",
   "execution_count": 13,
   "source": [
    "# Skip rows with NULL values in text and title\n",
    "df_ = df.dropna(subset=['titel', 'text'])\n",
    "df_.isnull().sum()"
   ],
   "outputs": [
    {
     "output_type": "execute_result",
     "data": {
      "text/plain": [
       "Date                           15\n",
       "URL                             0\n",
       "False_Statement_1_Location      0\n",
       "False_Statement_1_Index        14\n",
       "False_Statement_2_Location     77\n",
       "False_Statement_2_Index        81\n",
       "False_Statement_3_Location    144\n",
       "False_Statement_3_Index       146\n",
       "Ratio_of_Fake_Statements        0\n",
       "Overall_Rating                  0\n",
       "titel                           0\n",
       "text                            0\n",
       "dtype: int64"
      ]
     },
     "metadata": {},
     "execution_count": 13
    }
   ],
   "metadata": {}
  },
  {
   "cell_type": "code",
   "execution_count": 21,
   "source": [
    "# Still NULLS for Date...\n",
    "df_[df_['Date'].isnull()]"
   ],
   "outputs": [
    {
     "output_type": "execute_result",
     "data": {
      "text/html": [
       "<div>\n",
       "<style scoped>\n",
       "    .dataframe tbody tr th:only-of-type {\n",
       "        vertical-align: middle;\n",
       "    }\n",
       "\n",
       "    .dataframe tbody tr th {\n",
       "        vertical-align: top;\n",
       "    }\n",
       "\n",
       "    .dataframe thead th {\n",
       "        text-align: right;\n",
       "    }\n",
       "</style>\n",
       "<table border=\"1\" class=\"dataframe\">\n",
       "  <thead>\n",
       "    <tr style=\"text-align: right;\">\n",
       "      <th></th>\n",
       "      <th>Date</th>\n",
       "      <th>URL</th>\n",
       "      <th>False_Statement_1_Location</th>\n",
       "      <th>False_Statement_1_Index</th>\n",
       "      <th>False_Statement_2_Location</th>\n",
       "      <th>False_Statement_2_Index</th>\n",
       "      <th>False_Statement_3_Location</th>\n",
       "      <th>False_Statement_3_Index</th>\n",
       "      <th>Ratio_of_Fake_Statements</th>\n",
       "      <th>Overall_Rating</th>\n",
       "      <th>titel</th>\n",
       "      <th>text</th>\n",
       "    </tr>\n",
       "  </thead>\n",
       "  <tbody>\n",
       "  </tbody>\n",
       "</table>\n",
       "</div>"
      ],
      "text/plain": [
       "Empty DataFrame\n",
       "Columns: [Date, URL, False_Statement_1_Location, False_Statement_1_Index, False_Statement_2_Location, False_Statement_2_Index, False_Statement_3_Location, False_Statement_3_Index, Ratio_of_Fake_Statements, Overall_Rating, titel, text]\n",
       "Index: []"
      ]
     },
     "metadata": {},
     "execution_count": 21
    }
   ],
   "metadata": {
    "execution": {
     "iopub.execute_input": "2021-09-16T16:18:55.506486Z",
     "iopub.status.busy": "2021-09-16T16:18:55.505787Z",
     "iopub.status.idle": "2021-09-16T16:18:55.531293Z",
     "shell.execute_reply": "2021-09-16T16:18:55.531873Z",
     "shell.execute_reply.started": "2021-09-16T15:55:32.403227Z"
    },
    "papermill": {
     "duration": 0.06018,
     "end_time": "2021-09-16T16:18:55.532083",
     "exception": false,
     "start_time": "2021-09-16T16:18:55.471903",
     "status": "completed"
    },
    "tags": []
   }
  },
  {
   "cell_type": "markdown",
   "source": [
    "From the URL we can see that the Date could be 2017/12 so we impute the Date to work with..."
   ],
   "metadata": {}
  },
  {
   "cell_type": "code",
   "execution_count": 20,
   "source": [
    "df_['Date'].fillna(pd.to_datetime('01/12/2017'), inplace=True)"
   ],
   "outputs": [
    {
     "output_type": "stream",
     "name": "stderr",
     "text": [
      "/Users/dominikl/Python_Projekts/german_fake_news_classifier/envs/fake_news_env/lib/python3.8/site-packages/pandas/core/generic.py:6392: SettingWithCopyWarning: \n",
      "A value is trying to be set on a copy of a slice from a DataFrame\n",
      "\n",
      "See the caveats in the documentation: https://pandas.pydata.org/pandas-docs/stable/user_guide/indexing.html#returning-a-view-versus-a-copy\n",
      "  return self._update_inplace(result)\n"
     ]
    }
   ],
   "metadata": {}
  },
  {
   "cell_type": "markdown",
   "source": [
    "First we check for duplicates in the dataset..."
   ],
   "metadata": {
    "papermill": {
     "duration": 0.028934,
     "end_time": "2021-09-16T16:18:56.231678",
     "exception": false,
     "start_time": "2021-09-16T16:18:56.202744",
     "status": "completed"
    },
    "tags": []
   }
  },
  {
   "cell_type": "code",
   "execution_count": 25,
   "source": [
    "print(df_.duplicated(subset=['titel', 'text']).value_counts(normalize=True))\n",
    "df_[df_.duplicated(subset=['titel', 'text'])]"
   ],
   "outputs": [
    {
     "output_type": "stream",
     "name": "stdout",
     "text": [
      "False    1.0\n",
      "dtype: float64\n"
     ]
    },
    {
     "output_type": "execute_result",
     "data": {
      "text/html": [
       "<div>\n",
       "<style scoped>\n",
       "    .dataframe tbody tr th:only-of-type {\n",
       "        vertical-align: middle;\n",
       "    }\n",
       "\n",
       "    .dataframe tbody tr th {\n",
       "        vertical-align: top;\n",
       "    }\n",
       "\n",
       "    .dataframe thead th {\n",
       "        text-align: right;\n",
       "    }\n",
       "</style>\n",
       "<table border=\"1\" class=\"dataframe\">\n",
       "  <thead>\n",
       "    <tr style=\"text-align: right;\">\n",
       "      <th></th>\n",
       "      <th>index</th>\n",
       "      <th>Date</th>\n",
       "      <th>URL</th>\n",
       "      <th>False_Statement_1_Location</th>\n",
       "      <th>False_Statement_1_Index</th>\n",
       "      <th>False_Statement_2_Location</th>\n",
       "      <th>False_Statement_2_Index</th>\n",
       "      <th>False_Statement_3_Location</th>\n",
       "      <th>False_Statement_3_Index</th>\n",
       "      <th>Ratio_of_Fake_Statements</th>\n",
       "      <th>Overall_Rating</th>\n",
       "      <th>titel</th>\n",
       "      <th>text</th>\n",
       "    </tr>\n",
       "  </thead>\n",
       "  <tbody>\n",
       "  </tbody>\n",
       "</table>\n",
       "</div>"
      ],
      "text/plain": [
       "Empty DataFrame\n",
       "Columns: [index, Date, URL, False_Statement_1_Location, False_Statement_1_Index, False_Statement_2_Location, False_Statement_2_Index, False_Statement_3_Location, False_Statement_3_Index, Ratio_of_Fake_Statements, Overall_Rating, titel, text]\n",
       "Index: []"
      ]
     },
     "metadata": {},
     "execution_count": 25
    }
   ],
   "metadata": {
    "execution": {
     "iopub.execute_input": "2021-09-16T16:18:56.310043Z",
     "iopub.status.busy": "2021-09-16T16:18:56.309383Z",
     "iopub.status.idle": "2021-09-16T16:18:57.891343Z",
     "shell.execute_reply": "2021-09-16T16:18:57.890822Z",
     "shell.execute_reply.started": "2021-09-16T15:55:32.572472Z"
    },
    "papermill": {
     "duration": 1.63057,
     "end_time": "2021-09-16T16:18:57.891474",
     "exception": false,
     "start_time": "2021-09-16T16:18:56.260904",
     "status": "completed"
    },
    "tags": []
   }
  },
  {
   "cell_type": "code",
   "execution_count": 24,
   "source": [
    "# We drop them...\n",
    "df_ = df_.drop_duplicates(subset=['titel', 'text']).reset_index()"
   ],
   "outputs": [],
   "metadata": {
    "execution": {
     "iopub.execute_input": "2021-09-16T16:18:57.964089Z",
     "iopub.status.busy": "2021-09-16T16:18:57.963420Z",
     "iopub.status.idle": "2021-09-16T16:18:58.611561Z",
     "shell.execute_reply": "2021-09-16T16:18:58.610953Z",
     "shell.execute_reply.started": "2021-09-16T15:55:34.101581Z"
    },
    "papermill": {
     "duration": 0.689924,
     "end_time": "2021-09-16T16:18:58.611702",
     "exception": false,
     "start_time": "2021-09-16T16:18:57.921778",
     "status": "completed"
    },
    "tags": []
   }
  },
  {
   "cell_type": "markdown",
   "source": [
    "Now lets have a quick look at how many words and characters we have in Titel and Body? "
   ],
   "metadata": {
    "papermill": {
     "duration": 0.030143,
     "end_time": "2021-09-16T16:18:58.672014",
     "exception": false,
     "start_time": "2021-09-16T16:18:58.641871",
     "status": "completed"
    },
    "tags": []
   }
  },
  {
   "cell_type": "code",
   "execution_count": 28,
   "source": [
    "# Count for max character and word length in Titel and Body\n",
    "print('Max # of char in Title: %i' % df_['titel'].str.len().max())\n",
    "cnt_lst = []\n",
    "for i in range(0, len(df_)):\n",
    "    cnt_lst.append(len(df_['titel'][i].split()))\n",
    "print('Max # words in Title: %i' % max(cnt_lst))\n",
    "print('Average # of words in Title: %i' % np.mean(cnt_lst))\n",
    "\n",
    "print('Max char length of Body: %i' % df_['text'].str.len().max())\n",
    "cnt_lst = []\n",
    "for i in range(0, len(df_)):\n",
    "    cnt_lst.append(len(df_['text'][i].split()))\n",
    "print('Max # of words in Body: %i' % max(cnt_lst))\n",
    "print('Average # of words in Body: %i' % np.mean(cnt_lst))"
   ],
   "outputs": [
    {
     "output_type": "stream",
     "name": "stdout",
     "text": [
      "Max # of char in Title: 172\n",
      "Max # words in Title: 25\n",
      "Average # of words in Title: 11\n",
      "Max char length of Body: 27973\n",
      "Max # of words in Body: 4055\n",
      "Average # of words in Body: 549\n"
     ]
    }
   ],
   "metadata": {
    "execution": {
     "iopub.execute_input": "2021-09-16T16:18:58.748849Z",
     "iopub.status.busy": "2021-09-16T16:18:58.747887Z",
     "iopub.status.idle": "2021-09-16T16:19:01.987673Z",
     "shell.execute_reply": "2021-09-16T16:19:01.988612Z",
     "shell.execute_reply.started": "2021-09-16T15:55:34.727216Z"
    },
    "papermill": {
     "duration": 3.286412,
     "end_time": "2021-09-16T16:19:01.988871",
     "exception": false,
     "start_time": "2021-09-16T16:18:58.702459",
     "status": "completed"
    },
    "tags": []
   }
  },
  {
   "cell_type": "markdown",
   "source": [
    "Ok, this seams to be quite reasonable for news articles.\n",
    "\n",
    "### From what year they actually stem from?"
   ],
   "metadata": {
    "papermill": {
     "duration": 0.031095,
     "end_time": "2021-09-16T16:19:02.052285",
     "exception": false,
     "start_time": "2021-09-16T16:19:02.021190",
     "status": "completed"
    },
    "tags": []
   }
  },
  {
   "cell_type": "code",
   "execution_count": 33,
   "source": [
    "df_['Date'] = pd.to_datetime(df_['Date'])\n",
    "df_['Year'] = df_['Date'].apply(lambda x: x.year)\n",
    "df_['Year'].plot(kind = 'hist', figsize=(10, 8) )"
   ],
   "outputs": [
    {
     "output_type": "execute_result",
     "data": {
      "text/plain": [
       "<AxesSubplot:ylabel='Frequency'>"
      ]
     },
     "metadata": {},
     "execution_count": 33
    },
    {
     "output_type": "display_data",
     "data": {
      "image/png": "[encoded data removed]",
      "text/plain": [
       "<Figure size 720x576 with 1 Axes>"
      ]
     },
     "metadata": {
      "needs_background": "light"
     }
    }
   ],
   "metadata": {
    "execution": {
     "iopub.execute_input": "2021-09-16T16:19:02.146321Z",
     "iopub.status.busy": "2021-09-16T16:19:02.145110Z",
     "iopub.status.idle": "2021-09-16T16:19:02.908323Z",
     "shell.execute_reply": "2021-09-16T16:19:02.908830Z",
     "shell.execute_reply.started": "2021-09-16T15:55:38.002424Z"
    },
    "papermill": {
     "duration": 0.825199,
     "end_time": "2021-09-16T16:19:02.909017",
     "exception": false,
     "start_time": "2021-09-16T16:19:02.083818",
     "status": "completed"
    },
    "tags": []
   }
  },
  {
   "cell_type": "markdown",
   "source": [
    "Ok, so the majority of articles were published from 2017 to 2018. We are in 2021 as this EDA was perfromed. So the latest articles are already 3 years old. Could that have an implication on our model we want to train?\n",
    "* Topics (and therefore the vocabulary) in the train data could be outdated? (e.g. Nobody talked about covid-19 in 2018!)"
   ],
   "metadata": {
    "papermill": {
     "duration": 0.032314,
     "end_time": "2021-09-16T16:19:02.973890",
     "exception": false,
     "start_time": "2021-09-16T16:19:02.941576",
     "status": "completed"
    },
    "tags": []
   }
  },
  {
   "cell_type": "markdown",
   "source": [
    "## Preprocessing and preparing text features"
   ],
   "metadata": {
    "papermill": {
     "duration": 0.031917,
     "end_time": "2021-09-16T16:19:03.038341",
     "exception": false,
     "start_time": "2021-09-16T16:19:03.006424",
     "status": "completed"
    },
    "tags": []
   }
  },
  {
   "cell_type": "markdown",
   "source": [
    "We already know (and expected) from a first look on the text features, that they contain a lot of stopwords. Therefore we take a stopword list from nltk.\n",
    "\n",
    "Afterwards we ceate a word count matrix with CountVectorizer Object from scikit-learn and play around a bit..."
   ],
   "metadata": {
    "papermill": {
     "duration": 0.032357,
     "end_time": "2021-09-16T16:19:03.104069",
     "exception": false,
     "start_time": "2021-09-16T16:19:03.071712",
     "status": "completed"
    },
    "tags": []
   }
  },
  {
   "cell_type": "code",
   "execution_count": 49,
   "source": [
    "# Init a stopword list from nltk and use it as arg in CountVectorizer...\n",
    "nltk.download('stopwords')\n",
    "stopword_list = nltk.corpus.stopwords.words('german')\n",
    "stemmer = nltk.stem.snowball.GermanStemmer(ignore_stopwords=True)"
   ],
   "outputs": [
    {
     "output_type": "stream",
     "name": "stderr",
     "text": [
      "[nltk_data] Downloading package stopwords to\n",
      "[nltk_data]     /Users/dominikl/nltk_data...\n",
      "[nltk_data]   Package stopwords is already up-to-date!\n"
     ]
    }
   ],
   "metadata": {
    "execution": {
     "iopub.execute_input": "2021-09-16T16:19:03.175677Z",
     "iopub.status.busy": "2021-09-16T16:19:03.174894Z",
     "iopub.status.idle": "2021-09-16T16:19:03.183906Z",
     "shell.execute_reply": "2021-09-16T16:19:03.183283Z",
     "shell.execute_reply.started": "2021-09-16T15:55:38.785299Z"
    },
    "papermill": {
     "duration": 0.046642,
     "end_time": "2021-09-16T16:19:03.184065",
     "exception": false,
     "start_time": "2021-09-16T16:19:03.137423",
     "status": "completed"
    },
    "tags": []
   }
  },
  {
   "cell_type": "code",
   "execution_count": 53,
   "source": [
    "class StemmedCountVectorizer(CountVectorizer):\n",
    "    def build_analyzer(self):\n",
    "        analyzer = super(StemmedCountVectorizer, self).build_analyzer()\n",
    "        return lambda doc: ([stemmer.stem(w) for w in analyzer(doc)])"
   ],
   "outputs": [],
   "metadata": {}
  },
  {
   "cell_type": "markdown",
   "source": [
    "Count Vec Titel..."
   ],
   "metadata": {}
  },
  {
   "cell_type": "code",
   "execution_count": 55,
   "source": [
    "count_vec_titel = StemmedCountVectorizer(stop_words=stopword_list,\n",
    "                                  token_pattern=r'\\b[a-zA-Z]{2,}\\b',\n",
    "                                  max_features=50)\n",
    "                                  #ngram_range=(2,2)\n",
    "                                #)\n",
    "# We first do that on Titel...\n",
    "count_vec_titel.fit(df_['titel'])\n",
    "word_counts_in_titel = count_vec_titel.transform(df_['titel']).todense()"
   ],
   "outputs": [],
   "metadata": {
    "execution": {
     "iopub.execute_input": "2021-09-16T16:19:03.268841Z",
     "iopub.status.busy": "2021-09-16T16:19:03.263818Z",
     "iopub.status.idle": "2021-09-16T16:19:04.897452Z",
     "shell.execute_reply": "2021-09-16T16:19:04.896828Z",
     "shell.execute_reply.started": "2021-09-16T15:55:38.803527Z"
    },
    "papermill": {
     "duration": 1.68061,
     "end_time": "2021-09-16T16:19:04.897760",
     "exception": false,
     "start_time": "2021-09-16T16:19:03.217150",
     "status": "completed"
    },
    "tags": []
   }
  },
  {
   "cell_type": "markdown",
   "source": [
    "### What are the most occuring words?"
   ],
   "metadata": {
    "papermill": {
     "duration": 0.032147,
     "end_time": "2021-09-16T16:19:04.963509",
     "exception": false,
     "start_time": "2021-09-16T16:19:04.931362",
     "status": "completed"
    },
    "tags": []
   }
  },
  {
   "cell_type": "code",
   "execution_count": 56,
   "source": [
    "df_titel = pd.DataFrame(word_counts_in_titel, columns=count_vec_titel.get_feature_names())\n",
    "df_titel_trans = pd.DataFrame(df_titel.T.sum(axis=1), columns=['count'])\n",
    "df_titel_trans.sort_values(by='count', ascending=False).head(50)"
   ],
   "outputs": [
    {
     "output_type": "execute_result",
     "data": {
      "text/html": [
       "<div>\n",
       "<style scoped>\n",
       "    .dataframe tbody tr th:only-of-type {\n",
       "        vertical-align: middle;\n",
       "    }\n",
       "\n",
       "    .dataframe tbody tr th {\n",
       "        vertical-align: top;\n",
       "    }\n",
       "\n",
       "    .dataframe thead th {\n",
       "        text-align: right;\n",
       "    }\n",
       "</style>\n",
       "<table border=\"1\" class=\"dataframe\">\n",
       "  <thead>\n",
       "    <tr style=\"text-align: right;\">\n",
       "      <th></th>\n",
       "      <th>count</th>\n",
       "    </tr>\n",
       "  </thead>\n",
       "  <tbody>\n",
       "    <tr>\n",
       "      <th>frau</th>\n",
       "      <td>20</td>\n",
       "    </tr>\n",
       "    <tr>\n",
       "      <th>wissenschaft</th>\n",
       "      <td>16</td>\n",
       "    </tr>\n",
       "    <tr>\n",
       "      <th>propaganda</th>\n",
       "      <td>15</td>\n",
       "    </tr>\n",
       "    <tr>\n",
       "      <th>sott</th>\n",
       "      <td>14</td>\n",
       "    </tr>\n",
       "    <tr>\n",
       "      <th>net</th>\n",
       "      <td>14</td>\n",
       "    </tr>\n",
       "    <tr>\n",
       "      <th>statt</th>\n",
       "      <td>14</td>\n",
       "    </tr>\n",
       "    <tr>\n",
       "      <th>vergewalt</th>\n",
       "      <td>13</td>\n",
       "    </tr>\n",
       "    <tr>\n",
       "      <th>zuerst</th>\n",
       "      <td>13</td>\n",
       "    </tr>\n",
       "    <tr>\n",
       "      <th>bot</th>\n",
       "      <td>13</td>\n",
       "    </tr>\n",
       "    <tr>\n",
       "      <th>blau</th>\n",
       "      <td>13</td>\n",
       "    </tr>\n",
       "    <tr>\n",
       "      <th>magazin</th>\n",
       "      <td>13</td>\n",
       "    </tr>\n",
       "    <tr>\n",
       "      <th>deutsch</th>\n",
       "      <td>12</td>\n",
       "    </tr>\n",
       "    <tr>\n",
       "      <th>deutschland</th>\n",
       "      <td>12</td>\n",
       "    </tr>\n",
       "    <tr>\n",
       "      <th>polizei</th>\n",
       "      <td>10</td>\n",
       "    </tr>\n",
       "    <tr>\n",
       "      <th>versucht</th>\n",
       "      <td>10</td>\n",
       "    </tr>\n",
       "    <tr>\n",
       "      <th>kind</th>\n",
       "      <td>10</td>\n",
       "    </tr>\n",
       "    <tr>\n",
       "      <th>puppenspiel</th>\n",
       "      <td>9</td>\n",
       "    </tr>\n",
       "    <tr>\n",
       "      <th>vergewaltigt</th>\n",
       "      <td>9</td>\n",
       "    </tr>\n",
       "    <tr>\n",
       "      <th>polit</th>\n",
       "      <td>9</td>\n",
       "    </tr>\n",
       "    <tr>\n",
       "      <th>mehr</th>\n",
       "      <td>7</td>\n",
       "    </tr>\n",
       "    <tr>\n",
       "      <th>migrant</th>\n",
       "      <td>7</td>\n",
       "    </tr>\n",
       "    <tr>\n",
       "      <th>arab</th>\n",
       "      <td>7</td>\n",
       "    </tr>\n",
       "    <tr>\n",
       "      <th>merkel</th>\n",
       "      <td>7</td>\n",
       "    </tr>\n",
       "    <tr>\n",
       "      <th>berlin</th>\n",
       "      <td>7</td>\n",
       "    </tr>\n",
       "    <tr>\n",
       "      <th>jung</th>\n",
       "      <td>6</td>\n",
       "    </tr>\n",
       "    <tr>\n",
       "      <th>muslim</th>\n",
       "      <td>6</td>\n",
       "    </tr>\n",
       "    <tr>\n",
       "      <th>neu</th>\n",
       "      <td>6</td>\n",
       "    </tr>\n",
       "    <tr>\n",
       "      <th>gruppenvergewalt</th>\n",
       "      <td>6</td>\n",
       "    </tr>\n",
       "    <tr>\n",
       "      <th>brutal</th>\n",
       "      <td>6</td>\n",
       "    </tr>\n",
       "    <tr>\n",
       "      <th>eu</th>\n",
       "      <td>6</td>\n",
       "    </tr>\n",
       "    <tr>\n",
       "      <th>sexuell</th>\n",
       "      <td>6</td>\n",
       "    </tr>\n",
       "    <tr>\n",
       "      <th>medi</th>\n",
       "      <td>5</td>\n",
       "    </tr>\n",
       "    <tr>\n",
       "      <th>sex</th>\n",
       "      <td>5</td>\n",
       "    </tr>\n",
       "    <tr>\n",
       "      <th>armutsmigrant</th>\n",
       "      <td>5</td>\n",
       "    </tr>\n",
       "    <tr>\n",
       "      <th>weg</th>\n",
       "      <td>5</td>\n",
       "    </tr>\n",
       "    <tr>\n",
       "      <th>asylbewerb</th>\n",
       "      <td>5</td>\n",
       "    </tr>\n",
       "    <tr>\n",
       "      <th>spd</th>\n",
       "      <td>5</td>\n",
       "    </tr>\n",
       "    <tr>\n",
       "      <th>afrikan</th>\n",
       "      <td>5</td>\n",
       "    </tr>\n",
       "    <tr>\n",
       "      <th>schwarzafrikan</th>\n",
       "      <td>5</td>\n",
       "    </tr>\n",
       "    <tr>\n",
       "      <th>hamburg</th>\n",
       "      <td>5</td>\n",
       "    </tr>\n",
       "    <tr>\n",
       "      <th>mensch</th>\n",
       "      <td>4</td>\n",
       "    </tr>\n",
       "    <tr>\n",
       "      <th>fast</th>\n",
       "      <td>4</td>\n",
       "    </tr>\n",
       "    <tr>\n",
       "      <th>gend</th>\n",
       "      <td>4</td>\n",
       "    </tr>\n",
       "    <tr>\n",
       "      <th>gesellschaft</th>\n",
       "      <td>4</td>\n",
       "    </tr>\n",
       "    <tr>\n",
       "      <th>gesicht</th>\n",
       "      <td>4</td>\n",
       "    </tr>\n",
       "    <tr>\n",
       "      <th>news</th>\n",
       "      <td>4</td>\n",
       "    </tr>\n",
       "    <tr>\n",
       "      <th>warnt</th>\n",
       "      <td>4</td>\n",
       "    </tr>\n",
       "    <tr>\n",
       "      <th>million</th>\n",
       "      <td>4</td>\n",
       "    </tr>\n",
       "    <tr>\n",
       "      <th>islamist</th>\n",
       "      <td>4</td>\n",
       "    </tr>\n",
       "    <tr>\n",
       "      <th>regier</th>\n",
       "      <td>4</td>\n",
       "    </tr>\n",
       "  </tbody>\n",
       "</table>\n",
       "</div>"
      ],
      "text/plain": [
       "                  count\n",
       "frau                 20\n",
       "wissenschaft         16\n",
       "propaganda           15\n",
       "sott                 14\n",
       "net                  14\n",
       "statt                14\n",
       "vergewalt            13\n",
       "zuerst               13\n",
       "bot                  13\n",
       "blau                 13\n",
       "magazin              13\n",
       "deutsch              12\n",
       "deutschland          12\n",
       "polizei              10\n",
       "versucht             10\n",
       "kind                 10\n",
       "puppenspiel           9\n",
       "vergewaltigt          9\n",
       "polit                 9\n",
       "mehr                  7\n",
       "migrant               7\n",
       "arab                  7\n",
       "merkel                7\n",
       "berlin                7\n",
       "jung                  6\n",
       "muslim                6\n",
       "neu                   6\n",
       "gruppenvergewalt      6\n",
       "brutal                6\n",
       "eu                    6\n",
       "sexuell               6\n",
       "medi                  5\n",
       "sex                   5\n",
       "armutsmigrant         5\n",
       "weg                   5\n",
       "asylbewerb            5\n",
       "spd                   5\n",
       "afrikan               5\n",
       "schwarzafrikan        5\n",
       "hamburg               5\n",
       "mensch                4\n",
       "fast                  4\n",
       "gend                  4\n",
       "gesellschaft          4\n",
       "gesicht               4\n",
       "news                  4\n",
       "warnt                 4\n",
       "million               4\n",
       "islamist              4\n",
       "regier                4"
      ]
     },
     "metadata": {},
     "execution_count": 56
    }
   ],
   "metadata": {
    "execution": {
     "iopub.execute_input": "2021-09-16T16:19:05.049661Z",
     "iopub.status.busy": "2021-09-16T16:19:05.041745Z",
     "iopub.status.idle": "2021-09-16T16:19:05.052863Z",
     "shell.execute_reply": "2021-09-16T16:19:05.053466Z",
     "shell.execute_reply.started": "2021-09-16T15:55:40.523832Z"
    },
    "papermill": {
     "duration": 0.057817,
     "end_time": "2021-09-16T16:19:05.053689",
     "exception": false,
     "start_time": "2021-09-16T16:19:04.995872",
     "status": "completed"
    },
    "tags": []
   }
  },
  {
   "cell_type": "markdown",
   "source": [
    "Now count vec the body..."
   ],
   "metadata": {
    "papermill": {
     "duration": 0.033735,
     "end_time": "2021-09-16T16:19:05.473716",
     "exception": false,
     "start_time": "2021-09-16T16:19:05.439981",
     "status": "completed"
    },
    "tags": []
   }
  },
  {
   "cell_type": "code",
   "execution_count": 57,
   "source": [
    "count_vec_body = StemmedCountVectorizer(stop_words=stopword_list,\n",
    "                                  token_pattern=r'\\b[a-zA-Z]{2,}\\b',\n",
    "                                  max_features=50,\n",
    "                                  #ngram_range=(2,2)\n",
    "                                )\n",
    "count_vec_body.fit(df_['text'])\n",
    "word_counts_in_body = count_vec_body.transform(df_['text']).todense()"
   ],
   "outputs": [],
   "metadata": {
    "execution": {
     "iopub.execute_input": "2021-09-16T16:19:05.565991Z",
     "iopub.status.busy": "2021-09-16T16:19:05.560913Z",
     "iopub.status.idle": "2021-09-16T16:19:49.519624Z",
     "shell.execute_reply": "2021-09-16T16:19:49.519003Z",
     "shell.execute_reply.started": "2021-09-16T15:55:40.766904Z"
    },
    "papermill": {
     "duration": 44.012255,
     "end_time": "2021-09-16T16:19:49.519822",
     "exception": false,
     "start_time": "2021-09-16T16:19:05.507567",
     "status": "completed"
    },
    "tags": []
   }
  },
  {
   "cell_type": "code",
   "execution_count": 58,
   "source": [
    "df_body = pd.DataFrame(word_counts_in_body, columns=count_vec_body.get_feature_names())\n",
    "df_body_trans = pd.DataFrame(df_body.T.sum(axis=1), columns=['count'])\n",
    "df_body_trans.sort_values(by='count', ascending=False).head(20)"
   ],
   "outputs": [
    {
     "output_type": "execute_result",
     "data": {
      "text/html": [
       "<div>\n",
       "<style scoped>\n",
       "    .dataframe tbody tr th:only-of-type {\n",
       "        vertical-align: middle;\n",
       "    }\n",
       "\n",
       "    .dataframe tbody tr th {\n",
       "        vertical-align: top;\n",
       "    }\n",
       "\n",
       "    .dataframe thead th {\n",
       "        text-align: right;\n",
       "    }\n",
       "</style>\n",
       "<table border=\"1\" class=\"dataframe\">\n",
       "  <thead>\n",
       "    <tr style=\"text-align: right;\">\n",
       "      <th></th>\n",
       "      <th>count</th>\n",
       "    </tr>\n",
       "  </thead>\n",
       "  <tbody>\n",
       "    <tr>\n",
       "      <th>wurd</th>\n",
       "      <td>450</td>\n",
       "    </tr>\n",
       "    <tr>\n",
       "      <th>jahr</th>\n",
       "      <td>345</td>\n",
       "    </tr>\n",
       "    <tr>\n",
       "      <th>mehr</th>\n",
       "      <td>336</td>\n",
       "    </tr>\n",
       "    <tr>\n",
       "      <th>frau</th>\n",
       "      <td>311</td>\n",
       "    </tr>\n",
       "    <tr>\n",
       "      <th>deutsch</th>\n",
       "      <td>269</td>\n",
       "    </tr>\n",
       "    <tr>\n",
       "      <th>deutschland</th>\n",
       "      <td>262</td>\n",
       "    </tr>\n",
       "    <tr>\n",
       "      <th>polizei</th>\n",
       "      <td>260</td>\n",
       "    </tr>\n",
       "    <tr>\n",
       "      <th>kind</th>\n",
       "      <td>224</td>\n",
       "    </tr>\n",
       "    <tr>\n",
       "      <th>seit</th>\n",
       "      <td>218</td>\n",
       "    </tr>\n",
       "    <tr>\n",
       "      <th>polit</th>\n",
       "      <td>207</td>\n",
       "    </tr>\n",
       "    <tr>\n",
       "      <th>imm</th>\n",
       "      <td>195</td>\n",
       "    </tr>\n",
       "    <tr>\n",
       "      <th>mensch</th>\n",
       "      <td>187</td>\n",
       "    </tr>\n",
       "    <tr>\n",
       "      <th>bereit</th>\n",
       "      <td>167</td>\n",
       "    </tr>\n",
       "    <tr>\n",
       "      <th>schon</th>\n",
       "      <td>160</td>\n",
       "    </tr>\n",
       "    <tr>\n",
       "      <th>weit</th>\n",
       "      <td>155</td>\n",
       "    </tr>\n",
       "    <tr>\n",
       "      <th>mann</th>\n",
       "      <td>154</td>\n",
       "    </tr>\n",
       "    <tr>\n",
       "      <th>ganz</th>\n",
       "      <td>150</td>\n",
       "    </tr>\n",
       "    <tr>\n",
       "      <th>viel</th>\n",
       "      <td>149</td>\n",
       "    </tr>\n",
       "    <tr>\n",
       "      <th>sei</th>\n",
       "      <td>148</td>\n",
       "    </tr>\n",
       "    <tr>\n",
       "      <th>gibt</th>\n",
       "      <td>143</td>\n",
       "    </tr>\n",
       "  </tbody>\n",
       "</table>\n",
       "</div>"
      ],
      "text/plain": [
       "             count\n",
       "wurd           450\n",
       "jahr           345\n",
       "mehr           336\n",
       "frau           311\n",
       "deutsch        269\n",
       "deutschland    262\n",
       "polizei        260\n",
       "kind           224\n",
       "seit           218\n",
       "polit          207\n",
       "imm            195\n",
       "mensch         187\n",
       "bereit         167\n",
       "schon          160\n",
       "weit           155\n",
       "mann           154\n",
       "ganz           150\n",
       "viel           149\n",
       "sei            148\n",
       "gibt           143"
      ]
     },
     "metadata": {},
     "execution_count": 58
    }
   ],
   "metadata": {
    "execution": {
     "iopub.execute_input": "2021-09-16T16:19:49.608900Z",
     "iopub.status.busy": "2021-09-16T16:19:49.607902Z",
     "iopub.status.idle": "2021-09-16T16:19:49.612673Z",
     "shell.execute_reply": "2021-09-16T16:19:49.612043Z",
     "shell.execute_reply.started": "2021-09-16T15:56:23.838479Z"
    },
    "papermill": {
     "duration": 0.058799,
     "end_time": "2021-09-16T16:19:49.612838",
     "exception": false,
     "start_time": "2021-09-16T16:19:49.554039",
     "status": "completed"
    },
    "tags": []
   }
  }
 ],
 "metadata": {
  "kernelspec": {
   "name": "python3",
   "display_name": "Python 3.8.8 64-bit (conda)"
  },
  "language_info": {
   "codemirror_mode": {
    "name": "ipython",
    "version": 3
   },
   "file_extension": ".py",
   "mimetype": "text/x-python",
   "name": "python",
   "nbconvert_exporter": "python",
   "pygments_lexer": "ipython3",
   "version": "3.8.8"
  },
  "papermill": {
   "default_parameters": {},
   "duration": 71.786926,
   "end_time": "2021-09-16T16:19:52.191261",
   "environment_variables": {},
   "exception": null,
   "input_path": "__notebook__.ipynb",
   "output_path": "__notebook__.ipynb",
   "parameters": {},
   "start_time": "2021-09-16T16:18:40.404335",
   "version": "2.3.3"
  },
  "interpreter": {
   "hash": "4eb32842e5a47a9a6f8bff6cac9adadb6b57050dcae682228e9984011a72b302"
  }
 },
 "nbformat": 4,
 "nbformat_minor": 5
}